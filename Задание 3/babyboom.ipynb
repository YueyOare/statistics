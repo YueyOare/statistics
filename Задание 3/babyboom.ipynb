{
 "cells": [
  {
   "cell_type": "code",
   "execution_count": 1,
   "outputs": [],
   "source": [
    "import numpy as np\n",
    "import pandas as pd"
   ],
   "metadata": {
    "collapsed": false,
    "ExecuteTime": {
     "end_time": "2023-10-20T19:00:53.054162900Z",
     "start_time": "2023-10-20T19:00:32.718346100Z"
    }
   }
  },
  {
   "cell_type": "code",
   "execution_count": 2,
   "outputs": [
    {
     "data": {
      "text/plain": "    Time_of_Birth  Sex  Birth_Weight  Minutes_After_Midnight\n0               5    1          3837                       5\n1             104    1          3334                      64\n2             118    2          3554                      78\n3             155    2          3838                     115\n4             257    2          3625                     177\n5             405    1          2208                     245\n6             407    1          1745                     247\n7             422    2          2846                     262\n8             431    2          3166                     271\n9             708    2          3520                     428\n10            735    2          3380                     455\n11            812    2          3294                     492\n12            814    1          2576                     494\n13            909    1          3208                     549\n14           1035    2          3521                     635\n15           1049    1          3746                     649\n16           1053    1          3523                     653\n17           1133    2          2902                     693\n18           1209    2          2635                     729\n19           1256    2          3920                     776\n20           1305    2          3690                     785\n21           1406    1          3430                     846\n22           1407    1          3480                     847\n23           1433    1          3116                     873\n24           1446    1          3428                     886\n25           1514    2          3783                     914\n26           1631    2          3345                     991\n27           1657    2          3034                    1017\n28           1742    1          2184                    1062\n29           1807    2          3300                    1087\n30           1825    1          2383                    1105\n31           1854    2          3428                    1134\n32           1909    2          4162                    1149\n33           1947    2          3630                    1187\n34           1949    2          3406                    1189\n35           1951    2          3402                    1191\n36           2010    1          3500                    1210\n37           2037    2          3736                    1237\n38           2051    2          3370                    1251\n39           2104    2          2121                    1264\n40           2123    2          3150                    1283\n41           2217    1          3866                    1337\n42           2327    1          3542                    1407\n43           2355    1          3278                    1435",
      "text/html": "<div>\n<style scoped>\n    .dataframe tbody tr th:only-of-type {\n        vertical-align: middle;\n    }\n\n    .dataframe tbody tr th {\n        vertical-align: top;\n    }\n\n    .dataframe thead th {\n        text-align: right;\n    }\n</style>\n<table border=\"1\" class=\"dataframe\">\n  <thead>\n    <tr style=\"text-align: right;\">\n      <th></th>\n      <th>Time_of_Birth</th>\n      <th>Sex</th>\n      <th>Birth_Weight</th>\n      <th>Minutes_After_Midnight</th>\n    </tr>\n  </thead>\n  <tbody>\n    <tr>\n      <th>0</th>\n      <td>5</td>\n      <td>1</td>\n      <td>3837</td>\n      <td>5</td>\n    </tr>\n    <tr>\n      <th>1</th>\n      <td>104</td>\n      <td>1</td>\n      <td>3334</td>\n      <td>64</td>\n    </tr>\n    <tr>\n      <th>2</th>\n      <td>118</td>\n      <td>2</td>\n      <td>3554</td>\n      <td>78</td>\n    </tr>\n    <tr>\n      <th>3</th>\n      <td>155</td>\n      <td>2</td>\n      <td>3838</td>\n      <td>115</td>\n    </tr>\n    <tr>\n      <th>4</th>\n      <td>257</td>\n      <td>2</td>\n      <td>3625</td>\n      <td>177</td>\n    </tr>\n    <tr>\n      <th>5</th>\n      <td>405</td>\n      <td>1</td>\n      <td>2208</td>\n      <td>245</td>\n    </tr>\n    <tr>\n      <th>6</th>\n      <td>407</td>\n      <td>1</td>\n      <td>1745</td>\n      <td>247</td>\n    </tr>\n    <tr>\n      <th>7</th>\n      <td>422</td>\n      <td>2</td>\n      <td>2846</td>\n      <td>262</td>\n    </tr>\n    <tr>\n      <th>8</th>\n      <td>431</td>\n      <td>2</td>\n      <td>3166</td>\n      <td>271</td>\n    </tr>\n    <tr>\n      <th>9</th>\n      <td>708</td>\n      <td>2</td>\n      <td>3520</td>\n      <td>428</td>\n    </tr>\n    <tr>\n      <th>10</th>\n      <td>735</td>\n      <td>2</td>\n      <td>3380</td>\n      <td>455</td>\n    </tr>\n    <tr>\n      <th>11</th>\n      <td>812</td>\n      <td>2</td>\n      <td>3294</td>\n      <td>492</td>\n    </tr>\n    <tr>\n      <th>12</th>\n      <td>814</td>\n      <td>1</td>\n      <td>2576</td>\n      <td>494</td>\n    </tr>\n    <tr>\n      <th>13</th>\n      <td>909</td>\n      <td>1</td>\n      <td>3208</td>\n      <td>549</td>\n    </tr>\n    <tr>\n      <th>14</th>\n      <td>1035</td>\n      <td>2</td>\n      <td>3521</td>\n      <td>635</td>\n    </tr>\n    <tr>\n      <th>15</th>\n      <td>1049</td>\n      <td>1</td>\n      <td>3746</td>\n      <td>649</td>\n    </tr>\n    <tr>\n      <th>16</th>\n      <td>1053</td>\n      <td>1</td>\n      <td>3523</td>\n      <td>653</td>\n    </tr>\n    <tr>\n      <th>17</th>\n      <td>1133</td>\n      <td>2</td>\n      <td>2902</td>\n      <td>693</td>\n    </tr>\n    <tr>\n      <th>18</th>\n      <td>1209</td>\n      <td>2</td>\n      <td>2635</td>\n      <td>729</td>\n    </tr>\n    <tr>\n      <th>19</th>\n      <td>1256</td>\n      <td>2</td>\n      <td>3920</td>\n      <td>776</td>\n    </tr>\n    <tr>\n      <th>20</th>\n      <td>1305</td>\n      <td>2</td>\n      <td>3690</td>\n      <td>785</td>\n    </tr>\n    <tr>\n      <th>21</th>\n      <td>1406</td>\n      <td>1</td>\n      <td>3430</td>\n      <td>846</td>\n    </tr>\n    <tr>\n      <th>22</th>\n      <td>1407</td>\n      <td>1</td>\n      <td>3480</td>\n      <td>847</td>\n    </tr>\n    <tr>\n      <th>23</th>\n      <td>1433</td>\n      <td>1</td>\n      <td>3116</td>\n      <td>873</td>\n    </tr>\n    <tr>\n      <th>24</th>\n      <td>1446</td>\n      <td>1</td>\n      <td>3428</td>\n      <td>886</td>\n    </tr>\n    <tr>\n      <th>25</th>\n      <td>1514</td>\n      <td>2</td>\n      <td>3783</td>\n      <td>914</td>\n    </tr>\n    <tr>\n      <th>26</th>\n      <td>1631</td>\n      <td>2</td>\n      <td>3345</td>\n      <td>991</td>\n    </tr>\n    <tr>\n      <th>27</th>\n      <td>1657</td>\n      <td>2</td>\n      <td>3034</td>\n      <td>1017</td>\n    </tr>\n    <tr>\n      <th>28</th>\n      <td>1742</td>\n      <td>1</td>\n      <td>2184</td>\n      <td>1062</td>\n    </tr>\n    <tr>\n      <th>29</th>\n      <td>1807</td>\n      <td>2</td>\n      <td>3300</td>\n      <td>1087</td>\n    </tr>\n    <tr>\n      <th>30</th>\n      <td>1825</td>\n      <td>1</td>\n      <td>2383</td>\n      <td>1105</td>\n    </tr>\n    <tr>\n      <th>31</th>\n      <td>1854</td>\n      <td>2</td>\n      <td>3428</td>\n      <td>1134</td>\n    </tr>\n    <tr>\n      <th>32</th>\n      <td>1909</td>\n      <td>2</td>\n      <td>4162</td>\n      <td>1149</td>\n    </tr>\n    <tr>\n      <th>33</th>\n      <td>1947</td>\n      <td>2</td>\n      <td>3630</td>\n      <td>1187</td>\n    </tr>\n    <tr>\n      <th>34</th>\n      <td>1949</td>\n      <td>2</td>\n      <td>3406</td>\n      <td>1189</td>\n    </tr>\n    <tr>\n      <th>35</th>\n      <td>1951</td>\n      <td>2</td>\n      <td>3402</td>\n      <td>1191</td>\n    </tr>\n    <tr>\n      <th>36</th>\n      <td>2010</td>\n      <td>1</td>\n      <td>3500</td>\n      <td>1210</td>\n    </tr>\n    <tr>\n      <th>37</th>\n      <td>2037</td>\n      <td>2</td>\n      <td>3736</td>\n      <td>1237</td>\n    </tr>\n    <tr>\n      <th>38</th>\n      <td>2051</td>\n      <td>2</td>\n      <td>3370</td>\n      <td>1251</td>\n    </tr>\n    <tr>\n      <th>39</th>\n      <td>2104</td>\n      <td>2</td>\n      <td>2121</td>\n      <td>1264</td>\n    </tr>\n    <tr>\n      <th>40</th>\n      <td>2123</td>\n      <td>2</td>\n      <td>3150</td>\n      <td>1283</td>\n    </tr>\n    <tr>\n      <th>41</th>\n      <td>2217</td>\n      <td>1</td>\n      <td>3866</td>\n      <td>1337</td>\n    </tr>\n    <tr>\n      <th>42</th>\n      <td>2327</td>\n      <td>1</td>\n      <td>3542</td>\n      <td>1407</td>\n    </tr>\n    <tr>\n      <th>43</th>\n      <td>2355</td>\n      <td>1</td>\n      <td>3278</td>\n      <td>1435</td>\n    </tr>\n  </tbody>\n</table>\n</div>"
     },
     "execution_count": 2,
     "metadata": {},
     "output_type": "execute_result"
    }
   ],
   "source": [
    "column_names = [\"Time_of_Birth\", \"Sex\", \"Birth_Weight\", \"Minutes_After_Midnight\"]\n",
    "column_widths = [8, 8, 8, 8]\n",
    "df = pd.read_fwf(\"source/babyboom.dat.txt\", widths=column_widths, names=column_names)\n",
    "df"
   ],
   "metadata": {
    "collapsed": false,
    "ExecuteTime": {
     "end_time": "2023-10-20T19:00:53.455459400Z",
     "start_time": "2023-10-20T19:00:53.050163300Z"
    }
   }
  },
  {
   "cell_type": "code",
   "execution_count": 4,
   "outputs": [
    {
     "data": {
      "text/plain": "2     3554\n3     3838\n4     3625\n7     2846\n8     3166\n9     3520\n10    3380\n11    3294\n14    3521\n17    2902\n18    2635\n19    3920\n20    3690\n25    3783\n26    3345\n27    3034\n29    3300\n31    3428\n32    4162\n33    3630\n34    3406\n35    3402\n37    3736\n38    3370\n39    2121\n40    3150\nName: Birth_Weight, dtype: int64"
     },
     "execution_count": 4,
     "metadata": {},
     "output_type": "execute_result"
    }
   ],
   "source": [
    "boys_weight = df[df['Sex'] == 2]['Birth_Weight']\n",
    "boys_weight"
   ],
   "metadata": {
    "collapsed": false
   }
  },
  {
   "cell_type": "code",
   "execution_count": 5,
   "outputs": [
    {
     "data": {
      "text/plain": "0     3837\n1     3334\n5     2208\n6     1745\n12    2576\n13    3208\n15    3746\n16    3523\n21    3430\n22    3480\n23    3116\n24    3428\n28    2184\n30    2383\n36    3500\n41    3866\n42    3542\n43    3278\nName: Birth_Weight, dtype: int64"
     },
     "execution_count": 5,
     "metadata": {},
     "output_type": "execute_result"
    }
   ],
   "source": [
    "girls_weight = df[df['Sex'] == 1]['Birth_Weight']\n",
    "girls_weight"
   ],
   "metadata": {
    "collapsed": false,
    "ExecuteTime": {
     "end_time": "2023-10-20T19:00:53.574987600Z",
     "start_time": "2023-10-20T19:00:53.496364100Z"
    }
   }
  },
  {
   "cell_type": "markdown",
   "source": [
    "1. Проверка равенства дисперсий (критерий Фишера)"
   ],
   "metadata": {
    "collapsed": false
   }
  },
  {
   "cell_type": "code",
   "execution_count": 6,
   "outputs": [
    {
     "name": "stdout",
     "output_type": "stream",
     "text": [
      "Дисперсии равны (не отвергаем нулевую гипотезу)\n",
      "p-значение: 0.07526261914284979\n"
     ]
    }
   ],
   "source": [
    "from scipy.stats import f\n",
    "\n",
    "var1 = np.var(boys_weight, ddof=1)  # ddof=1 для вычисления выборочной дисперсии\n",
    "var2 = np.var(girls_weight, ddof=1)\n",
    "F = var1 / var2\n",
    "\n",
    "alpha = 0.05\n",
    "\n",
    "n = len(boys_weight) - 1\n",
    "m = len(girls_weight) - 1\n",
    "\n",
    "critical_value = f.ppf(1 - alpha / 2, n, m)\n",
    "p_value = 2 * min(f.cdf(F, n, m), 1 - f.cdf(F, n, m))\n",
    "\n",
    "if F < critical_value:\n",
    "    print(\"Дисперсии равны (не отвергаем нулевую гипотезу)\")\n",
    "else:\n",
    "    print(\"Дисперсии различаются (отвергаем нулевую гипотезу)\")\n",
    "print(\"p-значение:\", p_value)"
   ],
   "metadata": {
    "collapsed": false,
    "ExecuteTime": {
     "end_time": "2023-10-20T19:03:50.838408Z",
     "start_time": "2023-10-20T19:03:50.754260400Z"
    }
   }
  },
  {
   "cell_type": "markdown",
   "source": [
    "2. Так как дисперсии равны, можем сравнивать средние по критерию Стьюдента"
   ],
   "metadata": {
    "collapsed": false
   }
  },
  {
   "cell_type": "code",
   "execution_count": 7,
   "outputs": [
    {
     "name": "stdout",
     "output_type": "stream",
     "text": [
      "Средние значения выборок схожи (не отвергаем нулевую гипотезу)\n",
      "t-статистика: 1.5228564442562815\n",
      "p-значение: 0.1352891891054555\n"
     ]
    }
   ],
   "source": [
    "from scipy.stats import ttest_ind\n",
    "\n",
    "t_stat, p_value = ttest_ind(boys_weight, girls_weight)\n",
    "\n",
    "if p_value < 0.05:\n",
    "    print(\"Средние значения выборок различаются (отвергаем нулевую гипотезу)\")\n",
    "else:\n",
    "    print(\"Средние значения выборок схожи (не отвергаем нулевую гипотезу)\")\n",
    "\n",
    "print(\"t-статистика:\", t_stat)\n",
    "print(\"p-значение:\", p_value)"
   ],
   "metadata": {
    "collapsed": false,
    "ExecuteTime": {
     "end_time": "2023-10-20T19:06:49.129157Z",
     "start_time": "2023-10-20T19:06:49.088906Z"
    }
   }
  },
  {
   "cell_type": "code",
   "execution_count": null,
   "outputs": [],
   "source": [],
   "metadata": {
    "collapsed": false
   }
  }
 ],
 "metadata": {
  "kernelspec": {
   "display_name": "Python 3",
   "language": "python",
   "name": "python3"
  },
  "language_info": {
   "codemirror_mode": {
    "name": "ipython",
    "version": 2
   },
   "file_extension": ".py",
   "mimetype": "text/x-python",
   "name": "python",
   "nbconvert_exporter": "python",
   "pygments_lexer": "ipython2",
   "version": "2.7.6"
  }
 },
 "nbformat": 4,
 "nbformat_minor": 0
}
