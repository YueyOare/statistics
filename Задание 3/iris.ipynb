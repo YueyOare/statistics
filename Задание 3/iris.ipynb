{
 "cells": [
  {
   "cell_type": "code",
   "execution_count": 27,
   "outputs": [],
   "source": [
    "import numpy as np\n",
    "import pandas as pd\n",
    "import matplotlib.pyplot as plt\n",
    "import scipy.stats as stats\n",
    "from scipy.stats import chisquare, kstest, normaltest, shapiro"
   ],
   "metadata": {
    "collapsed": false,
    "ExecuteTime": {
     "end_time": "2023-10-22T18:49:29.734168900Z",
     "start_time": "2023-10-22T18:49:29.677652800Z"
    }
   }
  },
  {
   "cell_type": "code",
   "execution_count": 28,
   "outputs": [
    {
     "data": {
      "text/plain": "     sepal_length  sepal_width  petal_length  petal_width           class\n0             5.1          3.5           1.4          0.2     Iris-setosa\n1             4.9          3.0           1.4          0.2     Iris-setosa\n2             4.7          3.2           1.3          0.2     Iris-setosa\n3             4.6          3.1           1.5          0.2     Iris-setosa\n4             5.0          3.6           1.4          0.2     Iris-setosa\n..            ...          ...           ...          ...             ...\n145           6.7          3.0           5.2          2.3  Iris-virginica\n146           6.3          2.5           5.0          1.9  Iris-virginica\n147           6.5          3.0           5.2          2.0  Iris-virginica\n148           6.2          3.4           5.4          2.3  Iris-virginica\n149           5.9          3.0           5.1          1.8  Iris-virginica\n\n[150 rows x 5 columns]",
      "text/html": "<div>\n<style scoped>\n    .dataframe tbody tr th:only-of-type {\n        vertical-align: middle;\n    }\n\n    .dataframe tbody tr th {\n        vertical-align: top;\n    }\n\n    .dataframe thead th {\n        text-align: right;\n    }\n</style>\n<table border=\"1\" class=\"dataframe\">\n  <thead>\n    <tr style=\"text-align: right;\">\n      <th></th>\n      <th>sepal_length</th>\n      <th>sepal_width</th>\n      <th>petal_length</th>\n      <th>petal_width</th>\n      <th>class</th>\n    </tr>\n  </thead>\n  <tbody>\n    <tr>\n      <th>0</th>\n      <td>5.1</td>\n      <td>3.5</td>\n      <td>1.4</td>\n      <td>0.2</td>\n      <td>Iris-setosa</td>\n    </tr>\n    <tr>\n      <th>1</th>\n      <td>4.9</td>\n      <td>3.0</td>\n      <td>1.4</td>\n      <td>0.2</td>\n      <td>Iris-setosa</td>\n    </tr>\n    <tr>\n      <th>2</th>\n      <td>4.7</td>\n      <td>3.2</td>\n      <td>1.3</td>\n      <td>0.2</td>\n      <td>Iris-setosa</td>\n    </tr>\n    <tr>\n      <th>3</th>\n      <td>4.6</td>\n      <td>3.1</td>\n      <td>1.5</td>\n      <td>0.2</td>\n      <td>Iris-setosa</td>\n    </tr>\n    <tr>\n      <th>4</th>\n      <td>5.0</td>\n      <td>3.6</td>\n      <td>1.4</td>\n      <td>0.2</td>\n      <td>Iris-setosa</td>\n    </tr>\n    <tr>\n      <th>...</th>\n      <td>...</td>\n      <td>...</td>\n      <td>...</td>\n      <td>...</td>\n      <td>...</td>\n    </tr>\n    <tr>\n      <th>145</th>\n      <td>6.7</td>\n      <td>3.0</td>\n      <td>5.2</td>\n      <td>2.3</td>\n      <td>Iris-virginica</td>\n    </tr>\n    <tr>\n      <th>146</th>\n      <td>6.3</td>\n      <td>2.5</td>\n      <td>5.0</td>\n      <td>1.9</td>\n      <td>Iris-virginica</td>\n    </tr>\n    <tr>\n      <th>147</th>\n      <td>6.5</td>\n      <td>3.0</td>\n      <td>5.2</td>\n      <td>2.0</td>\n      <td>Iris-virginica</td>\n    </tr>\n    <tr>\n      <th>148</th>\n      <td>6.2</td>\n      <td>3.4</td>\n      <td>5.4</td>\n      <td>2.3</td>\n      <td>Iris-virginica</td>\n    </tr>\n    <tr>\n      <th>149</th>\n      <td>5.9</td>\n      <td>3.0</td>\n      <td>5.1</td>\n      <td>1.8</td>\n      <td>Iris-virginica</td>\n    </tr>\n  </tbody>\n</table>\n<p>150 rows × 5 columns</p>\n</div>"
     },
     "execution_count": 28,
     "metadata": {},
     "output_type": "execute_result"
    }
   ],
   "source": [
    "column_names = ['sepal_length', 'sepal_width', 'petal_length', 'petal_width', 'class']\n",
    "df = pd.read_csv('source/iris.txt', names=column_names)\n",
    "df"
   ],
   "metadata": {
    "collapsed": false,
    "ExecuteTime": {
     "end_time": "2023-10-22T18:49:29.828033600Z",
     "start_time": "2023-10-22T18:49:29.677652800Z"
    }
   }
  },
  {
   "cell_type": "code",
   "execution_count": 29,
   "outputs": [
    {
     "data": {
      "text/plain": "     sepal_length  sepal_width  petal_length  petal_width  class\n0             5.1          3.5           1.4          0.2      0\n1             4.9          3.0           1.4          0.2      0\n2             4.7          3.2           1.3          0.2      0\n3             4.6          3.1           1.5          0.2      0\n4             5.0          3.6           1.4          0.2      0\n..            ...          ...           ...          ...    ...\n145           6.7          3.0           5.2          2.3      2\n146           6.3          2.5           5.0          1.9      2\n147           6.5          3.0           5.2          2.0      2\n148           6.2          3.4           5.4          2.3      2\n149           5.9          3.0           5.1          1.8      2\n\n[150 rows x 5 columns]",
      "text/html": "<div>\n<style scoped>\n    .dataframe tbody tr th:only-of-type {\n        vertical-align: middle;\n    }\n\n    .dataframe tbody tr th {\n        vertical-align: top;\n    }\n\n    .dataframe thead th {\n        text-align: right;\n    }\n</style>\n<table border=\"1\" class=\"dataframe\">\n  <thead>\n    <tr style=\"text-align: right;\">\n      <th></th>\n      <th>sepal_length</th>\n      <th>sepal_width</th>\n      <th>petal_length</th>\n      <th>petal_width</th>\n      <th>class</th>\n    </tr>\n  </thead>\n  <tbody>\n    <tr>\n      <th>0</th>\n      <td>5.1</td>\n      <td>3.5</td>\n      <td>1.4</td>\n      <td>0.2</td>\n      <td>0</td>\n    </tr>\n    <tr>\n      <th>1</th>\n      <td>4.9</td>\n      <td>3.0</td>\n      <td>1.4</td>\n      <td>0.2</td>\n      <td>0</td>\n    </tr>\n    <tr>\n      <th>2</th>\n      <td>4.7</td>\n      <td>3.2</td>\n      <td>1.3</td>\n      <td>0.2</td>\n      <td>0</td>\n    </tr>\n    <tr>\n      <th>3</th>\n      <td>4.6</td>\n      <td>3.1</td>\n      <td>1.5</td>\n      <td>0.2</td>\n      <td>0</td>\n    </tr>\n    <tr>\n      <th>4</th>\n      <td>5.0</td>\n      <td>3.6</td>\n      <td>1.4</td>\n      <td>0.2</td>\n      <td>0</td>\n    </tr>\n    <tr>\n      <th>...</th>\n      <td>...</td>\n      <td>...</td>\n      <td>...</td>\n      <td>...</td>\n      <td>...</td>\n    </tr>\n    <tr>\n      <th>145</th>\n      <td>6.7</td>\n      <td>3.0</td>\n      <td>5.2</td>\n      <td>2.3</td>\n      <td>2</td>\n    </tr>\n    <tr>\n      <th>146</th>\n      <td>6.3</td>\n      <td>2.5</td>\n      <td>5.0</td>\n      <td>1.9</td>\n      <td>2</td>\n    </tr>\n    <tr>\n      <th>147</th>\n      <td>6.5</td>\n      <td>3.0</td>\n      <td>5.2</td>\n      <td>2.0</td>\n      <td>2</td>\n    </tr>\n    <tr>\n      <th>148</th>\n      <td>6.2</td>\n      <td>3.4</td>\n      <td>5.4</td>\n      <td>2.3</td>\n      <td>2</td>\n    </tr>\n    <tr>\n      <th>149</th>\n      <td>5.9</td>\n      <td>3.0</td>\n      <td>5.1</td>\n      <td>1.8</td>\n      <td>2</td>\n    </tr>\n  </tbody>\n</table>\n<p>150 rows × 5 columns</p>\n</div>"
     },
     "execution_count": 29,
     "metadata": {},
     "output_type": "execute_result"
    }
   ],
   "source": [
    "class_mapping = {\n",
    "    'Iris-setosa': 0,\n",
    "    'Iris-versicolor': 1,\n",
    "    'Iris-virginica': 2\n",
    "}\n",
    "\n",
    "df['class'] = df['class'].replace(class_mapping)\n",
    "df"
   ],
   "metadata": {
    "collapsed": false,
    "ExecuteTime": {
     "end_time": "2023-10-22T18:49:29.859778900Z",
     "start_time": "2023-10-22T18:49:29.734168900Z"
    }
   }
  },
  {
   "cell_type": "code",
   "execution_count": 30,
   "outputs": [],
   "source": [
    "class_0 = df[df['class'] == 0]\n",
    "class_1 = df[df['class'] == 1]\n",
    "class_2 = df[df['class'] == 2]"
   ],
   "metadata": {
    "collapsed": false,
    "ExecuteTime": {
     "end_time": "2023-10-22T18:49:29.859778900Z",
     "start_time": "2023-10-22T18:49:29.741078500Z"
    }
   }
  },
  {
   "cell_type": "code",
   "execution_count": 31,
   "outputs": [
    {
     "name": "stdout",
     "output_type": "stream",
     "text": [
      "Тест Колмогорова-Смирнова для sepal_length между классом [0] и классом [1]:\n",
      "Распределения sepal_length различаются между классом [0] и классом [1], p-value=2.807570962237254e-15\n",
      "Тест Колмогорова-Смирнова для sepal_length между классом [0] и классом [2]:\n",
      "Распределения sepal_length различаются между классом [0] и классом [2], p-value=7.773164323782225e-23\n",
      "Тест Колмогорова-Смирнова для sepal_length между классом [1] и классом [2]:\n",
      "Распределения sepal_length различаются между классом [1] и классом [2], p-value=3.800827929128319e-05\n",
      "Тест Колмогорова-Смирнова для sepal_width между классом [0] и классом [1]:\n",
      "Распределения sepal_width различаются между классом [0] и классом [1], p-value=2.6679407140599687e-11\n",
      "Тест Колмогорова-Смирнова для sepal_width между классом [0] и классом [2]:\n",
      "Распределения sepal_width различаются между классом [0] и классом [2], p-value=4.8075337049514946e-06\n",
      "Тест Колмогорова-Смирнова для sepal_width между классом [1] и классом [2]:\n",
      "Распределения sepal_width схожи между классом [1] и классом [2], p-value=0.06779471096995852\n",
      "Тест Колмогорова-Смирнова для petal_length между классом [0] и классом [1]:\n",
      "Распределения petal_length различаются между классом [0] и классом [1], p-value=1.9823306042836678e-29\n",
      "Тест Колмогорова-Смирнова для petal_length между классом [0] и классом [2]:\n",
      "Распределения petal_length различаются между классом [0] и классом [2], p-value=1.9823306042836678e-29\n",
      "Тест Колмогорова-Смирнова для petal_length между классом [1] и классом [2]:\n",
      "Распределения petal_length различаются между классом [1] и классом [2], p-value=3.173227767377155e-19\n",
      "Тест Колмогорова-Смирнова для petal_width между классом [0] и классом [1]:\n",
      "Распределения petal_width различаются между классом [0] и классом [1], p-value=1.9823306042836678e-29\n",
      "Тест Колмогорова-Смирнова для petal_width между классом [0] и классом [2]:\n",
      "Распределения petal_width различаются между классом [0] и классом [2], p-value=1.9823306042836678e-29\n",
      "Тест Колмогорова-Смирнова для petal_width между классом [1] и классом [2]:\n",
      "Распределения petal_width различаются между классом [1] и классом [2], p-value=2.3630419544297964e-20\n"
     ]
    }
   ],
   "source": [
    "from scipy.stats import ks_2samp\n",
    "\n",
    "columns = ['sepal_length', 'sepal_width', 'petal_length', 'petal_width']\n",
    "\n",
    "for column in columns:\n",
    "    for class_pair in [(class_0, class_1), (class_0, class_2), (class_1, class_2)]:\n",
    "        class_1_p, class_2_p = class_pair\n",
    "        stat, p_value = ks_2samp(class_1_p[column], class_2_p[column])\n",
    "        class_1_name = class_1_p['class'].unique()\n",
    "        class_2_name = class_2_p['class'].unique()\n",
    "        print(f\"Тест Колмогорова-Смирнова для {column} между классом {class_1_name} и классом {class_2_name}:\")\n",
    "\n",
    "        if p_value < 0.05:\n",
    "            print(f\"Распределения {column} различаются между классом {class_1_name} и классом {class_2_name}, p-value={p_value}\")\n",
    "        else:\n",
    "            print(f\"Распределения {column} схожи между классом {class_1_name} и классом {class_2_name}, p-value={p_value}\")"
   ],
   "metadata": {
    "collapsed": false,
    "ExecuteTime": {
     "end_time": "2023-10-22T18:49:29.859778900Z",
     "start_time": "2023-10-22T18:49:29.755840200Z"
    }
   }
  },
  {
   "cell_type": "markdown",
   "source": [
    "Видим, что функции распределения равны только у sepal_width классов 1 и 2"
   ],
   "metadata": {
    "collapsed": false
   }
  },
  {
   "cell_type": "markdown",
   "source": [
    "Проверим теперь равенство дисперсий"
   ],
   "metadata": {
    "collapsed": false
   }
  },
  {
   "cell_type": "code",
   "execution_count": 32,
   "outputs": [
    {
     "name": "stdout",
     "output_type": "stream",
     "text": [
      "Тест Фишера для дисперсии sepal_length между классом [0] и классом [1]:\n",
      "Равенство дисперсий не отвергается\n",
      "Тест Фишера для дисперсии sepal_length между классом [0] и классом [2]:\n",
      "Равенство дисперсий не отвергается\n",
      "Тест Фишера для дисперсии sepal_length между классом [1] и классом [2]:\n",
      "Равенство дисперсий не отвергается\n",
      "Тест Фишера для дисперсии sepal_width между классом [0] и классом [1]:\n",
      "Равенство дисперсий не отвергается\n",
      "Тест Фишера для дисперсии sepal_width между классом [0] и классом [2]:\n",
      "Равенство дисперсий не отвергается\n",
      "Тест Фишера для дисперсии sepal_width между классом [1] и классом [2]:\n",
      "Равенство дисперсий не отвергается\n",
      "Тест Фишера для дисперсии petal_length между классом [0] и классом [1]:\n",
      "Равенство дисперсий не отвергается\n",
      "Тест Фишера для дисперсии petal_length между классом [0] и классом [2]:\n",
      "Равенство дисперсий не отвергается\n",
      "Тест Фишера для дисперсии petal_length между классом [1] и классом [2]:\n",
      "Равенство дисперсий не отвергается\n",
      "Тест Фишера для дисперсии petal_width между классом [0] и классом [1]:\n",
      "Равенство дисперсий не отвергается\n",
      "Тест Фишера для дисперсии petal_width между классом [0] и классом [2]:\n",
      "Равенство дисперсий не отвергается\n",
      "Тест Фишера для дисперсии petal_width между классом [1] и классом [2]:\n",
      "Равенство дисперсий не отвергается\n"
     ]
    }
   ],
   "source": [
    "from scipy.stats import f\n",
    "\n",
    "columns = ['sepal_length', 'sepal_width', 'petal_length', 'petal_width']\n",
    "\n",
    "results = []\n",
    "\n",
    "for column in columns:\n",
    "    for class_pair in [(class_0, class_1), (class_0, class_2), (class_1, class_2)]:\n",
    "        class_1_p, class_2_p = class_pair\n",
    "        class_1_name = class_1_p['class'].unique()\n",
    "        class_2_name = class_2_p['class'].unique()\n",
    "        var1 = class_1_p[column].var(ddof=1)\n",
    "        var2 = class_2_p[column].var(ddof=1)\n",
    "        F = var1 / var2\n",
    "\n",
    "        alpha = 0.05\n",
    "\n",
    "        n = len(class_1_p) - 1\n",
    "        m = len(class_2_p) - 1\n",
    "\n",
    "        critical_value = f.ppf(1 - alpha / 2, n, m)\n",
    "\n",
    "        results.append((column, class_1_name, class_2_name, F, critical_value))\n",
    "\n",
    "for column, class1, class2, F, critical_value in results:\n",
    "    print(f\"Тест Фишера для дисперсии {column} между классом {class1} и классом {class2}:\")\n",
    "    if F < critical_value:\n",
    "        print(f\"Равенство дисперсий не отвергается\")\n",
    "    else:\n",
    "        print(f\"Равенство дисперсий отвергается\")"
   ],
   "metadata": {
    "collapsed": false,
    "ExecuteTime": {
     "end_time": "2023-10-22T18:49:29.901915300Z",
     "start_time": "2023-10-22T18:49:29.812376500Z"
    }
   }
  },
  {
   "cell_type": "markdown",
   "source": [
    "Дисперсии попарно равны, проверим их общее равенство:"
   ],
   "metadata": {
    "collapsed": false
   }
  },
  {
   "cell_type": "code",
   "execution_count": 33,
   "outputs": [
    {
     "name": "stdout",
     "output_type": "stream",
     "text": [
      "Тест Бартлетта для дисперсии sepal_length между всеми классами:\n",
      "Статистика: 16.005701874401502\n",
      "p-значение: 0.0003345076070163035\n",
      "Равенство дисперсий не отвергается для столбца sepal_length\n",
      "Тест Бартлетта для дисперсии sepal_width между всеми классами:\n",
      "Статистика: 2.2158125491551637\n",
      "p-значение: 0.3302496898960959\n",
      "Равенство дисперсий отвергается для столбца sepal_width\n",
      "Тест Бартлетта для дисперсии petal_length между всеми классами:\n",
      "Статистика: 55.49409813024258\n",
      "p-значение: 8.904503355816222e-13\n",
      "Равенство дисперсий не отвергается для столбца petal_length\n",
      "Тест Бартлетта для дисперсии petal_width между всеми классами:\n",
      "Статистика: 37.99553767573184\n",
      "p-значение: 5.615311140768039e-09\n",
      "Равенство дисперсий не отвергается для столбца petal_width\n"
     ]
    }
   ],
   "source": [
    "from scipy.stats import bartlett\n",
    "\n",
    "columns = ['sepal_length', 'sepal_width', 'petal_length', 'petal_width']\n",
    "\n",
    "results = []\n",
    "\n",
    "for column in columns:\n",
    "    samples = [class_0[column], class_1[column], class_2[column]]\n",
    "    statistic, p_value = bartlett(*samples)\n",
    "    results.append((column, statistic, p_value))\n",
    "\n",
    "for column, statistic, p_value in results:\n",
    "    print(f\"Тест Бартлетта для дисперсии {column} между всеми классами:\")\n",
    "    print(f\"Статистика: {statistic}\")\n",
    "    print(f\"p-значение: {p_value}\")\n",
    "\n",
    "    if p_value < 0.05:\n",
    "        print(f\"Равенство дисперсий не отвергается для столбца {column}\")\n",
    "    else:\n",
    "        print(f\"Равенство дисперсий отвергается для столбца {column}\")\n"
   ],
   "metadata": {
    "collapsed": false,
    "ExecuteTime": {
     "end_time": "2023-10-22T18:49:29.911611700Z",
     "start_time": "2023-10-22T18:49:29.844140600Z"
    }
   }
  },
  {
   "cell_type": "markdown",
   "source": [
    "Дисперсии не равны только в столбце sepal_width"
   ],
   "metadata": {
    "collapsed": false
   }
  },
  {
   "cell_type": "code",
   "execution_count": 35,
   "outputs": [
    {
     "name": "stdout",
     "output_type": "stream",
     "text": [
      "Тест Стьюдента для средних sepal_length между классом [0] и классом [1]:\n",
      "Средние значения выборок различаются (отвергаем нулевую гипотезу), p-value = 8.985235037487079e-18\n",
      "Тест Стьюдента для средних sepal_length между классом [0] и классом [2]:\n",
      "Средние значения выборок различаются (отвергаем нулевую гипотезу), p-value = 6.892546060674059e-28\n",
      "Тест Стьюдента для средних sepal_length между классом [1] и классом [2]:\n",
      "Средние значения выборок различаются (отвергаем нулевую гипотезу), p-value = 1.7248563024547942e-07\n",
      "Тест Стьюдента для средних sepal_width между классом [0] и классом [1]:\n",
      "Средние значения выборок различаются (отвергаем нулевую гипотезу), p-value = 4.362239016010214e-15\n",
      "Тест Стьюдента для средних sepal_width между классом [0] и классом [2]:\n",
      "Средние значения выборок различаются (отвергаем нулевую гипотезу), p-value = 8.916634067006441e-09\n",
      "Тест Стьюдента для средних sepal_width между классом [1] и классом [2]:\n",
      "Средние значения выборок различаются (отвергаем нулевую гипотезу), p-value = 0.0018191004238894803\n",
      "Тест Стьюдента для средних petal_length между классом [0] и классом [1]:\n",
      "Средние значения выборок различаются (отвергаем нулевую гипотезу), p-value = 5.717463758170621e-62\n",
      "Тест Стьюдента для средних petal_length между классом [0] и классом [2]:\n",
      "Средние значения выборок различаются (отвергаем нулевую гипотезу), p-value = 1.5641224158883576e-71\n",
      "Тест Стьюдента для средних petal_length между классом [1] и классом [2]:\n",
      "Средние значения выборок различаются (отвергаем нулевую гипотезу), p-value = 3.1788195478061495e-22\n",
      "Тест Стьюдента для средних petal_width между классом [0] и классом [1]:\n",
      "Средние значения выборок различаются (отвергаем нулевую гипотезу), p-value = 4.589080615710866e-56\n",
      "Тест Стьюдента для средних petal_width между классом [0] и классом [2]:\n",
      "Средние значения выборок различаются (отвергаем нулевую гипотезу), p-value = 3.5827195023160626e-65\n",
      "Тест Стьюдента для средних petal_width между классом [1] и классом [2]:\n",
      "Средние значения выборок различаются (отвергаем нулевую гипотезу), p-value = 2.2304090710248333e-26\n"
     ]
    }
   ],
   "source": [
    "from scipy.stats import ttest_ind\n",
    "\n",
    "columns = ['sepal_length', 'sepal_width', 'petal_length', 'petal_width']\n",
    "mean_results = []\n",
    "for column in columns:\n",
    "    for class_pair in [(class_0, class_1), (class_0, class_2), (class_1, class_2)]:\n",
    "        class_1_p, class_2_p = class_pair\n",
    "        class_1_name = class_1_p['class'].unique()\n",
    "        class_2_name = class_2_p['class'].unique()\n",
    "        t_stat, t_p_value = ttest_ind(class_1_p[column], class_2_p[column])\n",
    "\n",
    "        mean_results.append((column, class_1_name, class_2_name, t_stat, t_p_value))\n",
    "\n",
    "for column, class1, class2, t_stat, t_p_value in mean_results:\n",
    "    print(f\"Тест Стьюдента для средних {column} между классом {class1} и классом {class2}:\")\n",
    "    if t_p_value < 0.05:\n",
    "        print(\"Средние значения выборок различаются (отвергаем нулевую гипотезу), p-value =\", t_p_value)\n",
    "    else:\n",
    "        print(\"Средние значения выборок схожи (не отвергаем нулевую гипотезу), p-value =\", t_p_value)\n"
   ],
   "metadata": {
    "collapsed": false,
    "ExecuteTime": {
     "end_time": "2023-10-22T18:50:45.809032300Z",
     "start_time": "2023-10-22T18:50:45.798691500Z"
    }
   }
  },
  {
   "cell_type": "markdown",
   "source": [
    "Поскольку средние не равны попарно, нет смысла проверять равенство в совокупности."
   ],
   "metadata": {
    "collapsed": false
   }
  },
  {
   "cell_type": "code",
   "execution_count": 34,
   "outputs": [],
   "source": [],
   "metadata": {
    "collapsed": false,
    "ExecuteTime": {
     "end_time": "2023-10-22T18:49:30.106192400Z",
     "start_time": "2023-10-22T18:49:29.927253600Z"
    }
   }
  }
 ],
 "metadata": {
  "kernelspec": {
   "display_name": "Python 3",
   "language": "python",
   "name": "python3"
  },
  "language_info": {
   "codemirror_mode": {
    "name": "ipython",
    "version": 2
   },
   "file_extension": ".py",
   "mimetype": "text/x-python",
   "name": "python",
   "nbconvert_exporter": "python",
   "pygments_lexer": "ipython2",
   "version": "2.7.6"
  }
 },
 "nbformat": 4,
 "nbformat_minor": 0
}
