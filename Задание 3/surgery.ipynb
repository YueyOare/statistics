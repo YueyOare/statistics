{
 "cells": [
  {
   "cell_type": "code",
   "execution_count": 1,
   "metadata": {
    "collapsed": true,
    "ExecuteTime": {
     "end_time": "2023-10-23T09:54:39.132694600Z",
     "start_time": "2023-10-23T09:54:36.673280400Z"
    }
   },
   "outputs": [],
   "source": [
    "import numpy as np\n",
    "import pandas as pd"
   ]
  },
  {
   "cell_type": "code",
   "execution_count": 2,
   "outputs": [
    {
     "data": {
      "text/plain": "    Before_operation_V_right  Before_operation_V_left  \\\n0                       7.20                     6.70   \n1                       1.20                     1.20   \n2                       6.70                     7.30   \n3                       9.90                    10.05   \n4                       3.10                     2.13   \n..                       ...                      ...   \n89                      3.00                     5.40   \n90                      0.32                     0.33   \n91                      6.50                     5.30   \n92                     11.70                     8.30   \n93                     11.40                    11.50   \n\n    After_operation_V_right  After_operation_V_left  \n0                     12.00                   13.10  \n1                      4.50                    4.20  \n2                     15.30                   14.90  \n3                      9.60                    9.10  \n4                       NaN                     NaN  \n..                      ...                     ...  \n89                     5.09                    6.70  \n90                     0.80                    0.76  \n91                     9.70                    8.03  \n92                    11.70                    9.30  \n93                    14.80                   16.30  \n\n[94 rows x 4 columns]",
      "text/html": "<div>\n<style scoped>\n    .dataframe tbody tr th:only-of-type {\n        vertical-align: middle;\n    }\n\n    .dataframe tbody tr th {\n        vertical-align: top;\n    }\n\n    .dataframe thead th {\n        text-align: right;\n    }\n</style>\n<table border=\"1\" class=\"dataframe\">\n  <thead>\n    <tr style=\"text-align: right;\">\n      <th></th>\n      <th>Before_operation_V_right</th>\n      <th>Before_operation_V_left</th>\n      <th>After_operation_V_right</th>\n      <th>After_operation_V_left</th>\n    </tr>\n  </thead>\n  <tbody>\n    <tr>\n      <th>0</th>\n      <td>7.20</td>\n      <td>6.70</td>\n      <td>12.00</td>\n      <td>13.10</td>\n    </tr>\n    <tr>\n      <th>1</th>\n      <td>1.20</td>\n      <td>1.20</td>\n      <td>4.50</td>\n      <td>4.20</td>\n    </tr>\n    <tr>\n      <th>2</th>\n      <td>6.70</td>\n      <td>7.30</td>\n      <td>15.30</td>\n      <td>14.90</td>\n    </tr>\n    <tr>\n      <th>3</th>\n      <td>9.90</td>\n      <td>10.05</td>\n      <td>9.60</td>\n      <td>9.10</td>\n    </tr>\n    <tr>\n      <th>4</th>\n      <td>3.10</td>\n      <td>2.13</td>\n      <td>NaN</td>\n      <td>NaN</td>\n    </tr>\n    <tr>\n      <th>...</th>\n      <td>...</td>\n      <td>...</td>\n      <td>...</td>\n      <td>...</td>\n    </tr>\n    <tr>\n      <th>89</th>\n      <td>3.00</td>\n      <td>5.40</td>\n      <td>5.09</td>\n      <td>6.70</td>\n    </tr>\n    <tr>\n      <th>90</th>\n      <td>0.32</td>\n      <td>0.33</td>\n      <td>0.80</td>\n      <td>0.76</td>\n    </tr>\n    <tr>\n      <th>91</th>\n      <td>6.50</td>\n      <td>5.30</td>\n      <td>9.70</td>\n      <td>8.03</td>\n    </tr>\n    <tr>\n      <th>92</th>\n      <td>11.70</td>\n      <td>8.30</td>\n      <td>11.70</td>\n      <td>9.30</td>\n    </tr>\n    <tr>\n      <th>93</th>\n      <td>11.40</td>\n      <td>11.50</td>\n      <td>14.80</td>\n      <td>16.30</td>\n    </tr>\n  </tbody>\n</table>\n<p>94 rows × 4 columns</p>\n</div>"
     },
     "execution_count": 2,
     "metadata": {},
     "output_type": "execute_result"
    }
   ],
   "source": [
    "df = pd.read_excel('source/surgery.xlsx', skiprows=[0])\n",
    "new_column_names = ['Before_operation_V_right', 'Before_operation_V_left', 'After_operation_V_right', 'After_operation_V_left']\n",
    "\n",
    "df.columns = new_column_names\n",
    "df"
   ],
   "metadata": {
    "collapsed": false,
    "ExecuteTime": {
     "end_time": "2023-10-23T09:54:40.695532700Z",
     "start_time": "2023-10-23T09:54:39.134001500Z"
    }
   }
  },
  {
   "cell_type": "code",
   "execution_count": 3,
   "outputs": [
    {
     "data": {
      "text/plain": "    Before_operation_V_right  Before_operation_V_left  \\\n0                       7.20                     6.70   \n1                       1.20                     1.20   \n2                       6.70                     7.30   \n3                       9.90                    10.05   \n4                       3.10                     2.13   \n..                       ...                      ...   \n89                      3.00                     5.40   \n90                      0.32                     0.33   \n91                      6.50                     5.30   \n92                     11.70                     8.30   \n93                     11.40                    11.50   \n\n    After_operation_V_right  After_operation_V_left  success  \n0                     12.00                   13.10        1  \n1                      4.50                    4.20        1  \n2                     15.30                   14.90        1  \n3                      9.60                    9.10        0  \n4                       NaN                     NaN        0  \n..                      ...                     ...      ...  \n89                     5.09                    6.70        1  \n90                     0.80                    0.76        1  \n91                     9.70                    8.03        1  \n92                    11.70                    9.30        0  \n93                    14.80                   16.30        1  \n\n[94 rows x 5 columns]",
      "text/html": "<div>\n<style scoped>\n    .dataframe tbody tr th:only-of-type {\n        vertical-align: middle;\n    }\n\n    .dataframe tbody tr th {\n        vertical-align: top;\n    }\n\n    .dataframe thead th {\n        text-align: right;\n    }\n</style>\n<table border=\"1\" class=\"dataframe\">\n  <thead>\n    <tr style=\"text-align: right;\">\n      <th></th>\n      <th>Before_operation_V_right</th>\n      <th>Before_operation_V_left</th>\n      <th>After_operation_V_right</th>\n      <th>After_operation_V_left</th>\n      <th>success</th>\n    </tr>\n  </thead>\n  <tbody>\n    <tr>\n      <th>0</th>\n      <td>7.20</td>\n      <td>6.70</td>\n      <td>12.00</td>\n      <td>13.10</td>\n      <td>1</td>\n    </tr>\n    <tr>\n      <th>1</th>\n      <td>1.20</td>\n      <td>1.20</td>\n      <td>4.50</td>\n      <td>4.20</td>\n      <td>1</td>\n    </tr>\n    <tr>\n      <th>2</th>\n      <td>6.70</td>\n      <td>7.30</td>\n      <td>15.30</td>\n      <td>14.90</td>\n      <td>1</td>\n    </tr>\n    <tr>\n      <th>3</th>\n      <td>9.90</td>\n      <td>10.05</td>\n      <td>9.60</td>\n      <td>9.10</td>\n      <td>0</td>\n    </tr>\n    <tr>\n      <th>4</th>\n      <td>3.10</td>\n      <td>2.13</td>\n      <td>NaN</td>\n      <td>NaN</td>\n      <td>0</td>\n    </tr>\n    <tr>\n      <th>...</th>\n      <td>...</td>\n      <td>...</td>\n      <td>...</td>\n      <td>...</td>\n      <td>...</td>\n    </tr>\n    <tr>\n      <th>89</th>\n      <td>3.00</td>\n      <td>5.40</td>\n      <td>5.09</td>\n      <td>6.70</td>\n      <td>1</td>\n    </tr>\n    <tr>\n      <th>90</th>\n      <td>0.32</td>\n      <td>0.33</td>\n      <td>0.80</td>\n      <td>0.76</td>\n      <td>1</td>\n    </tr>\n    <tr>\n      <th>91</th>\n      <td>6.50</td>\n      <td>5.30</td>\n      <td>9.70</td>\n      <td>8.03</td>\n      <td>1</td>\n    </tr>\n    <tr>\n      <th>92</th>\n      <td>11.70</td>\n      <td>8.30</td>\n      <td>11.70</td>\n      <td>9.30</td>\n      <td>0</td>\n    </tr>\n    <tr>\n      <th>93</th>\n      <td>11.40</td>\n      <td>11.50</td>\n      <td>14.80</td>\n      <td>16.30</td>\n      <td>1</td>\n    </tr>\n  </tbody>\n</table>\n<p>94 rows × 5 columns</p>\n</div>"
     },
     "execution_count": 3,
     "metadata": {},
     "output_type": "execute_result"
    }
   ],
   "source": [
    "def success_operation(row):\n",
    "    if row['Before_operation_V_right'] < row['After_operation_V_right'] and row['Before_operation_V_left'] < row['After_operation_V_left']:\n",
    "        return 1\n",
    "    else:\n",
    "        return 0\n",
    "\n",
    "df['success'] = df.apply(success_operation, axis=1)\n",
    "df"
   ],
   "metadata": {
    "collapsed": false,
    "ExecuteTime": {
     "end_time": "2023-10-23T09:54:41.595161200Z",
     "start_time": "2023-10-23T09:54:40.695532700Z"
    }
   }
  },
  {
   "cell_type": "code",
   "execution_count": 4,
   "outputs": [
    {
     "data": {
      "text/plain": "array([25, 69], dtype=int64)"
     },
     "execution_count": 4,
     "metadata": {},
     "output_type": "execute_result"
    }
   ],
   "source": [
    "observed = pd.crosstab(df['success'], columns='count')\n",
    "observed = observed.to_numpy().flatten()\n",
    "observed"
   ],
   "metadata": {
    "collapsed": false,
    "ExecuteTime": {
     "end_time": "2023-10-23T09:54:41.706437800Z",
     "start_time": "2023-10-23T09:54:40.811607Z"
    }
   }
  },
  {
   "cell_type": "code",
   "execution_count": 7,
   "outputs": [
    {
     "name": "stdout",
     "output_type": "stream",
     "text": [
      "Гипотеза о соответствии данных биномиальному распределению с p=0.7 не отвергается.\n"
     ]
    }
   ],
   "source": [
    "from scipy.stats import chisquare\n",
    "\n",
    "def check_success(p, n, observed):\n",
    "\n",
    "    expected = [n * (1 - p), n * p]\n",
    "\n",
    "    chi2_stat, p_value = chisquare(observed, expected, ddof=1)\n",
    "\n",
    "    if p_value < 0.05:\n",
    "        print(f\"Гипотеза о соответствии данных биномиальному распределению с p={p} отвергается.\")\n",
    "    else:\n",
    "        print(f\"Гипотеза о соответствии данных биномиальному распределению с p={p} не отвергается.\")\n",
    "\n",
    "check_success(0.7, len(df), observed)"
   ],
   "metadata": {
    "collapsed": false,
    "ExecuteTime": {
     "end_time": "2023-10-23T09:55:27.697989900Z",
     "start_time": "2023-10-23T09:55:27.665471600Z"
    }
   }
  },
  {
   "cell_type": "code",
   "execution_count": 8,
   "outputs": [
    {
     "name": "stdout",
     "output_type": "stream",
     "text": [
      "Гипотеза о соответствии данных биномиальному распределению с p=0.8 не отвергается.\n"
     ]
    }
   ],
   "source": [
    "check_success(0.8, len(df), observed)"
   ],
   "metadata": {
    "collapsed": false,
    "ExecuteTime": {
     "end_time": "2023-10-23T09:55:29.907963700Z",
     "start_time": "2023-10-23T09:55:29.840022Z"
    }
   }
  },
  {
   "cell_type": "code",
   "execution_count": null,
   "outputs": [],
   "source": [],
   "metadata": {
    "collapsed": false
   }
  }
 ],
 "metadata": {
  "kernelspec": {
   "display_name": "Python 3",
   "language": "python",
   "name": "python3"
  },
  "language_info": {
   "codemirror_mode": {
    "name": "ipython",
    "version": 2
   },
   "file_extension": ".py",
   "mimetype": "text/x-python",
   "name": "python",
   "nbconvert_exporter": "python",
   "pygments_lexer": "ipython2",
   "version": "2.7.6"
  }
 },
 "nbformat": 4,
 "nbformat_minor": 0
}
