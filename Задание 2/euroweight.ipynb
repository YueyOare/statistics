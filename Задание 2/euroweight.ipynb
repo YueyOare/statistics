{
 "cells": [
  {
   "cell_type": "code",
   "execution_count": 2,
   "outputs": [],
   "source": [
    "import numpy as np\n",
    "import pandas as pd\n",
    "import matplotlib.pyplot as plt\n",
    "import scipy.stats as stats\n",
    "from scipy.stats import chisquare, kstest, normaltest, shapiro"
   ],
   "metadata": {
    "collapsed": false,
    "ExecuteTime": {
     "end_time": "2023-10-22T20:23:12.664029700Z",
     "start_time": "2023-10-22T20:23:08.614262900Z"
    }
   }
  },
  {
   "cell_type": "code",
   "execution_count": 3,
   "outputs": [
    {
     "data": {
      "text/plain": "      weight  batch\nID                 \n1      7.512      1\n2      7.502      1\n3      7.461      1\n4      7.562      1\n5      7.528      1\n...      ...    ...\n1996   7.514      8\n1997   7.519      8\n1998   7.606      8\n1999   7.547      8\n2000   7.494      8\n\n[2000 rows x 2 columns]",
      "text/html": "<div>\n<style scoped>\n    .dataframe tbody tr th:only-of-type {\n        vertical-align: middle;\n    }\n\n    .dataframe tbody tr th {\n        vertical-align: top;\n    }\n\n    .dataframe thead th {\n        text-align: right;\n    }\n</style>\n<table border=\"1\" class=\"dataframe\">\n  <thead>\n    <tr style=\"text-align: right;\">\n      <th></th>\n      <th>weight</th>\n      <th>batch</th>\n    </tr>\n    <tr>\n      <th>ID</th>\n      <th></th>\n      <th></th>\n    </tr>\n  </thead>\n  <tbody>\n    <tr>\n      <th>1</th>\n      <td>7.512</td>\n      <td>1</td>\n    </tr>\n    <tr>\n      <th>2</th>\n      <td>7.502</td>\n      <td>1</td>\n    </tr>\n    <tr>\n      <th>3</th>\n      <td>7.461</td>\n      <td>1</td>\n    </tr>\n    <tr>\n      <th>4</th>\n      <td>7.562</td>\n      <td>1</td>\n    </tr>\n    <tr>\n      <th>5</th>\n      <td>7.528</td>\n      <td>1</td>\n    </tr>\n    <tr>\n      <th>...</th>\n      <td>...</td>\n      <td>...</td>\n    </tr>\n    <tr>\n      <th>1996</th>\n      <td>7.514</td>\n      <td>8</td>\n    </tr>\n    <tr>\n      <th>1997</th>\n      <td>7.519</td>\n      <td>8</td>\n    </tr>\n    <tr>\n      <th>1998</th>\n      <td>7.606</td>\n      <td>8</td>\n    </tr>\n    <tr>\n      <th>1999</th>\n      <td>7.547</td>\n      <td>8</td>\n    </tr>\n    <tr>\n      <th>2000</th>\n      <td>7.494</td>\n      <td>8</td>\n    </tr>\n  </tbody>\n</table>\n<p>2000 rows × 2 columns</p>\n</div>"
     },
     "execution_count": 3,
     "metadata": {},
     "output_type": "execute_result"
    }
   ],
   "source": [
    "column_names = [\"ID\", \"weight\", \"batch\"]\n",
    "df = pd.read_csv(\"source/euroweight.dat.txt\", sep='\\t', names=column_names, index_col=0)\n",
    "df"
   ],
   "metadata": {
    "collapsed": false,
    "ExecuteTime": {
     "end_time": "2023-10-22T20:23:12.806599400Z",
     "start_time": "2023-10-22T20:23:12.743231100Z"
    }
   }
  },
  {
   "cell_type": "code",
   "execution_count": 4,
   "outputs": [
    {
     "data": {
      "text/plain": "11"
     },
     "execution_count": 4,
     "metadata": {},
     "output_type": "execute_result"
    }
   ],
   "source": [
    "num_bins = int(1 + np.floor(np.log2(df.shape[0])))\n",
    "num_bins"
   ],
   "metadata": {
    "collapsed": false,
    "ExecuteTime": {
     "end_time": "2023-10-22T20:23:12.825392200Z",
     "start_time": "2023-10-22T20:23:12.799824Z"
    }
   }
  },
  {
   "cell_type": "markdown",
   "source": [
    "Проверка веса монет"
   ],
   "metadata": {
    "collapsed": false
   }
  },
  {
   "cell_type": "code",
   "execution_count": 5,
   "outputs": [
    {
     "data": {
      "text/plain": "<Figure size 640x480 with 1 Axes>",
      "image/png": "[encoded data removed]"
     },
     "metadata": {},
     "output_type": "display_data"
    }
   ],
   "source": [
    "plt.hist(df['weight'], bins=num_bins, density=True)\n",
    "plt.xlabel('Значения')\n",
    "plt.ylabel('Плотность')\n",
    "plt.title('Гистограмма выборки weight')\n",
    "plt.show()"
   ],
   "metadata": {
    "collapsed": false,
    "ExecuteTime": {
     "end_time": "2023-10-22T20:23:13.164414400Z",
     "start_time": "2023-10-22T20:23:12.823887400Z"
    }
   }
  },
  {
   "cell_type": "code",
   "execution_count": 6,
   "outputs": [
    {
     "data": {
      "text/plain": "(array([   1,    0,    0,    2,   24,  545, 1052,  360,   14,    1,    1],\n       dtype=int64),\n array([7.201     , 7.25109091, 7.30118182, 7.35127273, 7.40136364,\n        7.45145455, 7.50154545, 7.55163636, 7.60172727, 7.65181818,\n        7.70190909, 7.752     ]))"
     },
     "execution_count": 6,
     "metadata": {},
     "output_type": "execute_result"
    }
   ],
   "source": [
    "histogram_weight, bin_edges_weight = np.histogram(df['weight'], bins=num_bins)\n",
    "observed_freq_weight = histogram_weight\n",
    "observed_freq_weight, bin_edges_weight"
   ],
   "metadata": {
    "collapsed": false,
    "ExecuteTime": {
     "end_time": "2023-10-22T20:23:13.176432100Z",
     "start_time": "2023-10-22T20:23:13.161404Z"
    }
   }
  },
  {
   "cell_type": "code",
   "execution_count": 7,
   "outputs": [
    {
     "data": {
      "text/plain": "(array([0.0135, 0.2725, 0.526 , 0.18  , 0.008 ]),\n array([      -inf, 7.45145455, 7.50154545, 7.55163636, 7.60172727,\n               inf]),\n 1.0)"
     },
     "execution_count": 7,
     "metadata": {},
     "output_type": "execute_result"
    }
   ],
   "source": [
    "# Создаем новые интервалы\n",
    "new_bin_edges = [-np.inf]  # Начинаем с первой границы\n",
    "new_observed_freq = []  # Создаем новый список для наблюдаемых частот\n",
    "current_bin_freq = 0  # Счетчик значений в текущем интервале\n",
    "\n",
    "for i in range(1, len(bin_edges_weight)):\n",
    "    current_bin_freq += observed_freq_weight[i - 1]\n",
    "    if current_bin_freq >= 5:\n",
    "        new_bin_edges.append(bin_edges_weight[i])\n",
    "        new_observed_freq.append(current_bin_freq)\n",
    "        current_bin_freq = 0\n",
    "\n",
    "# Последний интервал (если он остался) добавляем в последний интервал\n",
    "if current_bin_freq > 0:\n",
    "    new_observed_freq[-1] += current_bin_freq\n",
    "\n",
    "# Преобразуем списки в массивы numpy\n",
    "new_observed_freq = np.array(new_observed_freq)\n",
    "new_bin_edges = np.array(new_bin_edges)\n",
    "new_bin_edges[-1] = np.inf\n",
    "\n",
    "observed_freq_weight = new_observed_freq / df.shape[0]\n",
    "bin_edges_weight = new_bin_edges\n",
    "observed_freq_weight, bin_edges_weight, sum(observed_freq_weight)"
   ],
   "metadata": {
    "collapsed": false,
    "ExecuteTime": {
     "end_time": "2023-10-22T20:23:13.311587200Z",
     "start_time": "2023-10-22T20:23:13.179582200Z"
    }
   }
  },
  {
   "cell_type": "code",
   "execution_count": 8,
   "outputs": [
    {
     "name": "stdout",
     "output_type": "stream",
     "text": [
      "Среднее:  7.5212325\n",
      "Стандартное отклонение:  0.03437914202613595\n",
      "Дисперсия:  0.0011819254064532269\n"
     ]
    }
   ],
   "source": [
    "mean_weight = df['weight'].mean()\n",
    "std_dev_weight = df['weight'].std()\n",
    "dev_weight = df['weight'].var()\n",
    "print('Среднее: ', mean_weight)\n",
    "print('Стандартное отклонение: ', std_dev_weight)\n",
    "print('Дисперсия: ', dev_weight)"
   ],
   "metadata": {
    "collapsed": false,
    "ExecuteTime": {
     "end_time": "2023-10-22T20:23:13.311587200Z",
     "start_time": "2023-10-22T20:23:13.201505300Z"
    }
   }
  },
  {
   "cell_type": "code",
   "execution_count": 9,
   "outputs": [],
   "source": [
    "gamma = 0.95"
   ],
   "metadata": {
    "collapsed": false,
    "ExecuteTime": {
     "end_time": "2023-10-22T20:23:13.311587200Z",
     "start_time": "2023-10-22T20:23:13.218442200Z"
    }
   }
  },
  {
   "cell_type": "code",
   "execution_count": 25,
   "outputs": [
    {
     "name": "stdout",
     "output_type": "stream",
     "text": [
      "Доверительный интервал для среднего: ( 7.521184276619593 ;  7.521280723380407 )\n"
     ]
    }
   ],
   "source": [
    "n = df.shape[0]\n",
    "a_est_left_weight = mean_weight - stats.t.ppf(1 - gamma / 2, n - 1) * std_dev_weight / np.sqrt(n-1)\n",
    "a_est_right_weight = mean_weight + stats.t.ppf(1 - gamma / 2, n - 1) * std_dev_weight / np.sqrt(n-1)\n",
    "print('Доверительный интервал для среднего: (', a_est_left_weight, '; ', a_est_right_weight, ')')"
   ],
   "metadata": {
    "collapsed": false,
    "ExecuteTime": {
     "end_time": "2023-10-22T20:36:37.687709500Z",
     "start_time": "2023-10-22T20:36:37.650407300Z"
    }
   }
  },
  {
   "cell_type": "code",
   "execution_count": 26,
   "outputs": [
    {
     "name": "stdout",
     "output_type": "stream",
     "text": [
      "Доверительный интервал для дисперсии: ( 0.001180567661244517 ;  0.001185260830030843 )\n"
     ]
    }
   ],
   "source": [
    "chi_1_weight = stats.chi2.ppf(q=1 - gamma / 2, df=n - 1)\n",
    "chi_2_weight = stats.chi2.ppf(q=gamma / 2, df=n - 1)\n",
    "d_est_left_weight = n * dev_weight / chi_1_weight\n",
    "d_est_right_weight = n * dev_weight / chi_2_weight\n",
    "print('Доверительный интервал для дисперсии: (', d_est_left_weight, '; ', d_est_right_weight, ')')"
   ],
   "metadata": {
    "collapsed": false,
    "ExecuteTime": {
     "end_time": "2023-10-22T20:36:53.405014400Z",
     "start_time": "2023-10-22T20:36:53.389179Z"
    }
   }
  },
  {
   "cell_type": "code",
   "execution_count": 12,
   "outputs": [
    {
     "data": {
      "text/plain": "([0.02119557771581355,\n  0.262246947957465,\n  0.5283090754736176,\n  0.17864220098280403,\n  0.009606197870299815],\n 1.0)"
     },
     "execution_count": 12,
     "metadata": {},
     "output_type": "execute_result"
    }
   ],
   "source": [
    "expected_freq_weight = []\n",
    "\n",
    "for i in range(len(bin_edges_weight) - 1):\n",
    "    lower_bound = bin_edges_weight[i]\n",
    "    upper_bound = bin_edges_weight[i + 1]\n",
    "    expected_count = stats.norm.cdf(upper_bound, loc=mean_weight, scale=std_dev_weight) - stats.norm.cdf(lower_bound, loc=mean_weight, scale=std_dev_weight)\n",
    "    expected_freq_weight.append(expected_count)\n",
    "\n",
    "expected_freq_weight, sum(expected_freq_weight)"
   ],
   "metadata": {
    "collapsed": false,
    "ExecuteTime": {
     "end_time": "2023-10-22T20:23:13.360538800Z",
     "start_time": "2023-10-22T20:23:13.285810Z"
    }
   }
  },
  {
   "cell_type": "code",
   "execution_count": 13,
   "outputs": [
    {
     "name": "stdout",
     "output_type": "stream",
     "text": [
      "Выборка имеет нормальное распределение (p-value = 0.998259562301915 )\n"
     ]
    }
   ],
   "source": [
    "chi_squared_statistic_weight, chi_squared_p_value_weight = stats.chisquare(f_obs=observed_freq_weight, f_exp=expected_freq_weight, ddof=2)\n",
    "alpha = 0.05\n",
    "if chi_squared_p_value_weight < alpha:\n",
    "    print(\"Выборка не имеет нормальное распределение (p-value =\", chi_squared_p_value_weight, \")\")\n",
    "else:\n",
    "    print(\"Выборка имеет нормальное распределение (p-value =\", chi_squared_p_value_weight, \")\")"
   ],
   "metadata": {
    "collapsed": false,
    "ExecuteTime": {
     "end_time": "2023-10-22T20:23:13.361538900Z",
     "start_time": "2023-10-22T20:23:13.307129600Z"
    }
   }
  },
  {
   "cell_type": "code",
   "execution_count": 14,
   "outputs": [
    {
     "name": "stdout",
     "output_type": "stream",
     "text": [
      "Выборка имеет нормальное распределение (p-value = 0.22192512324841585 )\n"
     ]
    }
   ],
   "source": [
    "ks_statistic_weight, ks_p_value_weight = stats.kstest(df['weight'], 'norm', args=(mean_weight, std_dev_weight))\n",
    "alpha = 0.05\n",
    "if ks_p_value_weight < alpha:\n",
    "    print(\"Выборка не имеет нормальное распределение (p-value =\", ks_p_value_weight, \")\")\n",
    "else:\n",
    "    print(\"Выборка имеет нормальное распределение (p-value =\", ks_p_value_weight, \")\")"
   ],
   "metadata": {
    "collapsed": false,
    "ExecuteTime": {
     "end_time": "2023-10-22T20:23:13.548588700Z",
     "start_time": "2023-10-22T20:23:13.337055300Z"
    }
   }
  },
  {
   "cell_type": "code",
   "execution_count": 15,
   "outputs": [
    {
     "name": "stdout",
     "output_type": "stream",
     "text": [
      "Выборка не имеет нормальное распределение (p-value = 5.2924265568161764e-48 )\n"
     ]
    }
   ],
   "source": [
    "omega2_statistic_weight, omega2_p_value_weight = stats.normaltest(df['weight'])\n",
    "alpha = 0.05\n",
    "if omega2_p_value_weight < alpha:\n",
    "    print(\"Выборка не имеет нормальное распределение (p-value =\", omega2_p_value_weight, \")\")\n",
    "else:\n",
    "    print(\"Выборка имеет нормальное распределение (p-value =\", omega2_p_value_weight, \")\")"
   ],
   "metadata": {
    "collapsed": false,
    "ExecuteTime": {
     "end_time": "2023-10-22T20:23:13.548588700Z",
     "start_time": "2023-10-22T20:23:13.347604100Z"
    }
   }
  },
  {
   "cell_type": "code",
   "execution_count": 16,
   "outputs": [
    {
     "data": {
      "text/plain": "<Figure size 1600x800 with 8 Axes>",
      "image/png": "[encoded data removed]"
     },
     "metadata": {},
     "output_type": "display_data"
    }
   ],
   "source": [
    "fig, axes = plt.subplots(nrows=2, ncols=4, figsize=(16, 8))\n",
    "fig.subplots_adjust(hspace=0.5)\n",
    "fig.tight_layout()\n",
    "weights_by_batches = {}\n",
    "freqs_by_batches = {}\n",
    "bin_edges_by_batches = {}\n",
    "\n",
    "for batch_number, ax in zip(range(min(df['batch']), max(df['batch']) + 1), axes.flatten()):\n",
    "    weights = df[df['batch'] == batch_number]['weight']\n",
    "    weights_by_batches[batch_number] = np.array(weights)\n",
    "    histogram_weight, bin_edges_weight = np.histogram(weights, bins=num_bins)\n",
    "    freqs_by_batches[batch_number] = histogram_weight\n",
    "    bin_edges_by_batches[batch_number] = bin_edges_weight\n",
    "    color = np.random.rand(3,)\n",
    "    ax.hist(weights, bins=num_bins, color=color)\n",
    "    ax.set_xlabel('Weight')\n",
    "    ax.set_ylabel('Frequency')\n",
    "    ax.set_title(f'Batch {batch_number}')\n",
    "\n",
    "for ax in axes.flatten():\n",
    "    ax.axis('off')"
   ],
   "metadata": {
    "collapsed": false,
    "ExecuteTime": {
     "end_time": "2023-10-22T20:23:15.693613700Z",
     "start_time": "2023-10-22T20:23:13.367288900Z"
    }
   }
  },
  {
   "cell_type": "code",
   "execution_count": 17,
   "outputs": [],
   "source": [
    "for batch, freq in freqs_by_batches.items():\n",
    "    new_bin_edges = [-np.inf]  # Начинаем с первой границы\n",
    "    new_observed_freq = []  # Создаем новый список для наблюдаемых частот\n",
    "    current_bin_freq = 0  # Счетчик значений в текущем интервале\n",
    "\n",
    "    for i in range(1, len(bin_edges_by_batches[batch])):\n",
    "        current_bin_freq += freq[i - 1]\n",
    "        if current_bin_freq >= 3:\n",
    "            new_bin_edges.append(bin_edges_by_batches[batch][i])\n",
    "            new_observed_freq.append(current_bin_freq)\n",
    "            current_bin_freq = 0\n",
    "\n",
    "    # Последний интервал (если он остался) добавляем в последний интервал\n",
    "    if current_bin_freq > 0:\n",
    "        new_observed_freq[-1] += current_bin_freq\n",
    "\n",
    "    # Преобразуем списки в массивы numpy\n",
    "    new_observed_freq = np.array(new_observed_freq)\n",
    "    new_bin_edges = np.array(new_bin_edges)\n",
    "    new_bin_edges[-1] = np.inf\n",
    "\n",
    "    freqs_by_batches[batch] = new_observed_freq / len(weights_by_batches[batch])\n",
    "    bin_edges_by_batches[batch] = new_bin_edges"
   ],
   "metadata": {
    "collapsed": false,
    "ExecuteTime": {
     "end_time": "2023-10-22T20:23:16.168847600Z",
     "start_time": "2023-10-22T20:23:15.693613700Z"
    }
   }
  },
  {
   "cell_type": "code",
   "execution_count": 18,
   "outputs": [
    {
     "data": {
      "text/plain": "{1: array([0.012, 0.036, 0.1  , 0.18 , 0.208, 0.176, 0.144, 0.092, 0.036,\n        0.016]),\n 2: array([0.016, 0.052, 0.128, 0.168, 0.264, 0.144, 0.14 , 0.072, 0.016]),\n 3: array([0.012, 0.052, 0.388, 0.392, 0.14 , 0.016]),\n 4: array([0.02 , 0.056, 0.136, 0.168, 0.156, 0.212, 0.12 , 0.096, 0.036]),\n 5: array([0.016, 0.06 , 0.12 , 0.232, 0.22 , 0.196, 0.112, 0.044]),\n 6: array([0.016, 0.112, 0.188, 0.212, 0.212, 0.1  , 0.088, 0.06 , 0.012]),\n 7: array([0.02 , 0.028, 0.044, 0.132, 0.208, 0.172, 0.156, 0.128, 0.088,\n        0.024]),\n 8: array([0.04 , 0.168, 0.352, 0.268, 0.108, 0.052, 0.012])}"
     },
     "execution_count": 18,
     "metadata": {},
     "output_type": "execute_result"
    }
   ],
   "source": [
    "freqs_by_batches"
   ],
   "metadata": {
    "collapsed": false,
    "ExecuteTime": {
     "end_time": "2023-10-22T20:23:16.169858200Z",
     "start_time": "2023-10-22T20:23:15.783939700Z"
    }
   }
  },
  {
   "cell_type": "code",
   "execution_count": 19,
   "outputs": [
    {
     "data": {
      "text/plain": "{1: array([      -inf, 7.44736364, 7.46572727, 7.48409091, 7.50245455,\n        7.52081818, 7.53918182, 7.55754545, 7.57590909, 7.59427273,\n               inf]),\n 2: array([      -inf, 7.45345455, 7.47327273, 7.49309091, 7.51290909,\n        7.53272727, 7.55254545, 7.57236364, 7.59218182,        inf]),\n 3: array([ -inf, 7.429, 7.467, 7.505, 7.543, 7.581,   inf]),\n 4: array([      -inf, 7.47454545, 7.48981818, 7.50509091, 7.52036364,\n        7.53563636, 7.55090909, 7.56618182, 7.58145455,        inf]),\n 5: array([      -inf, 7.46963636, 7.48827273, 7.50690909, 7.52554545,\n        7.54418182, 7.56281818, 7.58145455,        inf]),\n 6: array([      -inf, 7.45990909, 7.47836364, 7.49681818, 7.51527273,\n        7.53372727, 7.55218182, 7.57063636, 7.58909091,        inf]),\n 7: array([      -inf, 7.44990909, 7.46636364, 7.48281818, 7.49927273,\n        7.51572727, 7.53218182, 7.54863636, 7.56509091, 7.58154545,\n               inf]),\n 8: array([      -inf, 7.46018182, 7.48936364, 7.51854545, 7.54772727,\n        7.57690909, 7.60609091,        inf])}"
     },
     "execution_count": 19,
     "metadata": {},
     "output_type": "execute_result"
    }
   ],
   "source": [
    "bin_edges_by_batches"
   ],
   "metadata": {
    "collapsed": false,
    "ExecuteTime": {
     "end_time": "2023-10-22T20:23:16.169858200Z",
     "start_time": "2023-10-22T20:23:15.824675Z"
    }
   }
  },
  {
   "cell_type": "code",
   "execution_count": 27,
   "outputs": [
    {
     "data": {
      "text/plain": "   Batch      Mean                        Conf_int for mean       Std  \\\n1    1.0  7.519656   (7.519519588148403; 7.519792411851598)  0.034293   \n2    2.0  7.523168  (7.5230271250259095; 7.523308874974092)  0.035415   \n3    3.0  7.509544     (7.50939695064762; 7.50969104935238)  0.036967   \n4    4.0  7.531104     (7.53098721871658; 7.53122078128342)  0.029358   \n5    5.0  7.531396   (7.531278390106915; 7.531513609893087)  0.029566   \n6    6.0  7.515240   (7.515107309289805; 7.515372690710194)  0.033357   \n7    7.0  7.523016   (7.522884998549561; 7.523147001450438)  0.032932   \n8    8.0  7.516736   (7.516591595630349; 7.516880404369651)  0.036302   \n\n        Dev                                Conf_int for dev  \n1  0.001176   (0.0011772328475422606; 0.001190554341235145)  \n2  0.001254  (0.0012555264373568687; 0.0012697338964431637)  \n3  0.001367  (0.0013679946406634387; 0.0013834747829441644)  \n4  0.000862  (0.0008627891028457871; 0.0008725523706783532)  \n5  0.000874  (0.0008750762035391659; 0.0008849785114390666)  \n6  0.001113  (0.0011138820379468775; 0.0011264866578180486)  \n7  0.001085   (0.0010857013352536455; 0.001097987064045645)  \n8  0.001318  (0.0013192248816055994; 0.0013341531483257263)  ",
      "text/html": "<div>\n<style scoped>\n    .dataframe tbody tr th:only-of-type {\n        vertical-align: middle;\n    }\n\n    .dataframe tbody tr th {\n        vertical-align: top;\n    }\n\n    .dataframe thead th {\n        text-align: right;\n    }\n</style>\n<table border=\"1\" class=\"dataframe\">\n  <thead>\n    <tr style=\"text-align: right;\">\n      <th></th>\n      <th>Batch</th>\n      <th>Mean</th>\n      <th>Conf_int for mean</th>\n      <th>Std</th>\n      <th>Dev</th>\n      <th>Conf_int for dev</th>\n    </tr>\n  </thead>\n  <tbody>\n    <tr>\n      <th>1</th>\n      <td>1.0</td>\n      <td>7.519656</td>\n      <td>(7.519519588148403; 7.519792411851598)</td>\n      <td>0.034293</td>\n      <td>0.001176</td>\n      <td>(0.0011772328475422606; 0.001190554341235145)</td>\n    </tr>\n    <tr>\n      <th>2</th>\n      <td>2.0</td>\n      <td>7.523168</td>\n      <td>(7.5230271250259095; 7.523308874974092)</td>\n      <td>0.035415</td>\n      <td>0.001254</td>\n      <td>(0.0012555264373568687; 0.0012697338964431637)</td>\n    </tr>\n    <tr>\n      <th>3</th>\n      <td>3.0</td>\n      <td>7.509544</td>\n      <td>(7.50939695064762; 7.50969104935238)</td>\n      <td>0.036967</td>\n      <td>0.001367</td>\n      <td>(0.0013679946406634387; 0.0013834747829441644)</td>\n    </tr>\n    <tr>\n      <th>4</th>\n      <td>4.0</td>\n      <td>7.531104</td>\n      <td>(7.53098721871658; 7.53122078128342)</td>\n      <td>0.029358</td>\n      <td>0.000862</td>\n      <td>(0.0008627891028457871; 0.0008725523706783532)</td>\n    </tr>\n    <tr>\n      <th>5</th>\n      <td>5.0</td>\n      <td>7.531396</td>\n      <td>(7.531278390106915; 7.531513609893087)</td>\n      <td>0.029566</td>\n      <td>0.000874</td>\n      <td>(0.0008750762035391659; 0.0008849785114390666)</td>\n    </tr>\n    <tr>\n      <th>6</th>\n      <td>6.0</td>\n      <td>7.515240</td>\n      <td>(7.515107309289805; 7.515372690710194)</td>\n      <td>0.033357</td>\n      <td>0.001113</td>\n      <td>(0.0011138820379468775; 0.0011264866578180486)</td>\n    </tr>\n    <tr>\n      <th>7</th>\n      <td>7.0</td>\n      <td>7.523016</td>\n      <td>(7.522884998549561; 7.523147001450438)</td>\n      <td>0.032932</td>\n      <td>0.001085</td>\n      <td>(0.0010857013352536455; 0.001097987064045645)</td>\n    </tr>\n    <tr>\n      <th>8</th>\n      <td>8.0</td>\n      <td>7.516736</td>\n      <td>(7.516591595630349; 7.516880404369651)</td>\n      <td>0.036302</td>\n      <td>0.001318</td>\n      <td>(0.0013192248816055994; 0.0013341531483257263)</td>\n    </tr>\n  </tbody>\n</table>\n</div>"
     },
     "execution_count": 27,
     "metadata": {},
     "output_type": "execute_result"
    }
   ],
   "source": [
    "info = pd.DataFrame({'Batch': [], 'Mean': [], 'Conf_int for mean': [], 'Std': [], 'Dev': [], 'Conf_int for dev': []})\n",
    "for batch, weight in weights_by_batches.items():\n",
    "    mean = np.mean(weight)\n",
    "    std_dev = np.std(weight)\n",
    "    dev = np.var(weight)\n",
    "    info.loc[batch, 'Batch'] = batch\n",
    "    info.loc[batch, 'Mean'] = mean\n",
    "    info.loc[batch, 'Std'] = std_dev\n",
    "    info.loc[batch, 'Dev'] = dev\n",
    "    n_batch = len(weight)\n",
    "    a_est_left = mean - stats.t.ppf(1 - gamma / 2, n_batch - 1) * std_dev / np.sqrt(n_batch-1)\n",
    "    a_est_right = mean + stats.t.ppf(1 - gamma / 2, n_batch - 1) * std_dev / np.sqrt(n_batch-1)\n",
    "    info.loc[batch, 'Conf_int for mean'] = '('+str(a_est_left)+'; '+str(a_est_right)+')'\n",
    "    chi_1_batches = stats.chi2.ppf(q=1 - gamma / 2, df=n_batch - 1)\n",
    "    chi_2_batches = stats.chi2.ppf(q=gamma / 2, df=n_batch - 1)\n",
    "    d_est_left = n_batch * dev / chi_1_batches\n",
    "    d_est_right = n_batch * dev / chi_2_batches\n",
    "    info.loc[batch, 'Conf_int for dev'] = '('+str(d_est_left)+'; '+str(d_est_right)+')'\n",
    "info"
   ],
   "metadata": {
    "collapsed": false,
    "ExecuteTime": {
     "end_time": "2023-10-22T20:37:54.989072500Z",
     "start_time": "2023-10-22T20:37:54.903706700Z"
    }
   }
  },
  {
   "cell_type": "code",
   "execution_count": 21,
   "outputs": [],
   "source": [
    "expected_freq_by_batches = {}\n",
    "for batch, freq in freqs_by_batches.items():\n",
    "    expected_freq = []\n",
    "\n",
    "    for i in range(len(bin_edges_by_batches[batch]) - 1):\n",
    "        lower_bound = bin_edges_by_batches[batch][i]\n",
    "        upper_bound = bin_edges_by_batches[batch][i + 1]\n",
    "        expected_count = stats.norm.cdf(upper_bound, loc=info.loc[batch, 'Mean'], scale=info.loc[batch, 'Std']) - stats.norm.cdf(lower_bound, loc=info.loc[batch, 'Mean'], scale=info.loc[batch, 'Std'])\n",
    "        expected_freq.append(expected_count)\n",
    "\n",
    "    expected_freq_by_batches[batch] = expected_freq"
   ],
   "metadata": {
    "collapsed": false,
    "ExecuteTime": {
     "end_time": "2023-10-22T20:23:16.171871600Z",
     "start_time": "2023-10-22T20:23:15.915373300Z"
    }
   }
  },
  {
   "cell_type": "code",
   "execution_count": 22,
   "outputs": [
    {
     "name": "stdout",
     "output_type": "stream",
     "text": [
      "Пакет № 1\n",
      "Выборка имеет нормальное распределение по Пирсону (p-value = 0.9999999991383405 )\n",
      "Выборка имеет нормальное распределение по Колмогорову (p-value = 0.832309916274967 )\n",
      "Выборка имеет нормальное распределение по Шапиро (p-value = 0.68293696641922 )\n",
      "Пакет № 2\n",
      "Выборка имеет нормальное распределение по Пирсону (p-value = 0.9999989892632116 )\n",
      "Выборка имеет нормальное распределение по Колмогорову (p-value = 0.9467274746733476 )\n",
      "Выборка имеет нормальное распределение по Шапиро (p-value = 0.12186499685049057 )\n",
      "Пакет № 3\n",
      "Выборка имеет нормальное распределение по Пирсону (p-value = 0.9970124088755846 )\n",
      "Выборка имеет нормальное распределение по Колмогорову (p-value = 0.09458127636707048 )\n",
      "Выборка не имеет нормальное распределение по Шапиро (p-value = 4.0891918215262e-14 )\n",
      "Пакет № 4\n",
      "Выборка имеет нормальное распределение по Пирсону (p-value = 0.9999992288321939 )\n",
      "Выборка имеет нормальное распределение по Колмогорову (p-value = 0.6543178209813991 )\n",
      "Выборка имеет нормальное распределение по Шапиро (p-value = 0.6825649738311768 )\n",
      "Пакет № 5\n",
      "Выборка имеет нормальное распределение по Пирсону (p-value = 0.9999997256088774 )\n",
      "Выборка имеет нормальное распределение по Колмогорову (p-value = 0.9014904040457943 )\n",
      "Выборка имеет нормальное распределение по Шапиро (p-value = 0.12900124490261078 )\n",
      "Пакет № 6\n",
      "Выборка имеет нормальное распределение по Пирсону (p-value = 0.9999916325355885 )\n",
      "Выборка имеет нормальное распределение по Колмогорову (p-value = 0.40906917544569643 )\n",
      "Выборка не имеет нормальное распределение по Шапиро (p-value = 0.006755967158824205 )\n",
      "Пакет № 7\n",
      "Выборка имеет нормальное распределение по Пирсону (p-value = 0.999999913550499 )\n",
      "Выборка имеет нормальное распределение по Колмогорову (p-value = 0.7334277326067178 )\n",
      "Выборка имеет нормальное распределение по Шапиро (p-value = 0.11200965940952301 )\n",
      "Пакет № 8\n",
      "Выборка имеет нормальное распределение по Пирсону (p-value = 0.9998435273689884 )\n",
      "Выборка имеет нормальное распределение по Колмогорову (p-value = 0.16500273801963117 )\n",
      "Выборка не имеет нормальное распределение по Шапиро (p-value = 6.826919030089584e-09 )\n"
     ]
    }
   ],
   "source": [
    "for batch, weight in weights_by_batches.items():\n",
    "    chi_squared_statistic, chi_squared_p_value = stats.chisquare(f_obs=freqs_by_batches[batch], f_exp=expected_freq_by_batches[batch], ddof=2)\n",
    "    ks_statistic, ks_p_value = stats.kstest(weight, 'norm', args=(info.loc[batch, 'Mean'], info.loc[batch, 'Std']))\n",
    "    omega2_statistic, omega2_p_value = stats.shapiro(weight)\n",
    "    alpha = 0.05\n",
    "    print('Пакет №', batch)\n",
    "    if chi_squared_p_value < alpha:\n",
    "        print(\"Выборка не имеет нормальное распределение по Пирсону (p-value =\", chi_squared_p_value, \")\")\n",
    "    else:\n",
    "        print(\"Выборка имеет нормальное распределение по Пирсону (p-value =\", chi_squared_p_value, \")\")\n",
    "    if ks_p_value < alpha:\n",
    "        print(\"Выборка не имеет нормальное распределение по Колмогорову (p-value =\", ks_p_value, \")\")\n",
    "    else:\n",
    "        print(\"Выборка имеет нормальное распределение по Колмогорову (p-value =\", ks_p_value, \")\")\n",
    "    if omega2_p_value < alpha:\n",
    "        print(\"Выборка не имеет нормальное распределение по Шапиро (p-value =\", omega2_p_value, \")\")\n",
    "    else:\n",
    "        print(\"Выборка имеет нормальное распределение по Шапиро (p-value =\", omega2_p_value, \")\")"
   ],
   "metadata": {
    "collapsed": false,
    "ExecuteTime": {
     "end_time": "2023-10-22T20:23:16.172862400Z",
     "start_time": "2023-10-22T20:23:16.030593400Z"
    }
   }
  },
  {
   "cell_type": "code",
   "execution_count": 22,
   "outputs": [],
   "source": [],
   "metadata": {
    "collapsed": false,
    "ExecuteTime": {
     "end_time": "2023-10-22T20:23:16.172862400Z",
     "start_time": "2023-10-22T20:23:16.066903400Z"
    }
   }
  }
 ],
 "metadata": {
  "kernelspec": {
   "display_name": "Python 3",
   "language": "python",
   "name": "python3"
  },
  "language_info": {
   "codemirror_mode": {
    "name": "ipython",
    "version": 2
   },
   "file_extension": ".py",
   "mimetype": "text/x-python",
   "name": "python",
   "nbconvert_exporter": "python",
   "pygments_lexer": "ipython2",
   "version": "2.7.6"
  }
 },
 "nbformat": 4,
 "nbformat_minor": 0
}
