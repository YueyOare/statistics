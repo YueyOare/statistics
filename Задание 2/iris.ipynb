{
 "cells": [
  {
   "cell_type": "code",
   "execution_count": 11,
   "outputs": [],
   "source": [
    "import numpy as np\n",
    "import pandas as pd\n",
    "import matplotlib.pyplot as plt\n",
    "import scipy.stats as stats\n",
    "from scipy.stats import chisquare, kstest, normaltest, shapiro"
   ],
   "metadata": {
    "collapsed": false,
    "ExecuteTime": {
     "end_time": "2023-10-22T20:38:12.371454500Z",
     "start_time": "2023-10-22T20:38:12.333163400Z"
    }
   }
  },
  {
   "cell_type": "code",
   "execution_count": 12,
   "outputs": [
    {
     "data": {
      "text/plain": "     sepal_length  sepal_width  petal_length  petal_width           class\n0             5.1          3.5           1.4          0.2     Iris-setosa\n1             4.9          3.0           1.4          0.2     Iris-setosa\n2             4.7          3.2           1.3          0.2     Iris-setosa\n3             4.6          3.1           1.5          0.2     Iris-setosa\n4             5.0          3.6           1.4          0.2     Iris-setosa\n..            ...          ...           ...          ...             ...\n145           6.7          3.0           5.2          2.3  Iris-virginica\n146           6.3          2.5           5.0          1.9  Iris-virginica\n147           6.5          3.0           5.2          2.0  Iris-virginica\n148           6.2          3.4           5.4          2.3  Iris-virginica\n149           5.9          3.0           5.1          1.8  Iris-virginica\n\n[150 rows x 5 columns]",
      "text/html": "<div>\n<style scoped>\n    .dataframe tbody tr th:only-of-type {\n        vertical-align: middle;\n    }\n\n    .dataframe tbody tr th {\n        vertical-align: top;\n    }\n\n    .dataframe thead th {\n        text-align: right;\n    }\n</style>\n<table border=\"1\" class=\"dataframe\">\n  <thead>\n    <tr style=\"text-align: right;\">\n      <th></th>\n      <th>sepal_length</th>\n      <th>sepal_width</th>\n      <th>petal_length</th>\n      <th>petal_width</th>\n      <th>class</th>\n    </tr>\n  </thead>\n  <tbody>\n    <tr>\n      <th>0</th>\n      <td>5.1</td>\n      <td>3.5</td>\n      <td>1.4</td>\n      <td>0.2</td>\n      <td>Iris-setosa</td>\n    </tr>\n    <tr>\n      <th>1</th>\n      <td>4.9</td>\n      <td>3.0</td>\n      <td>1.4</td>\n      <td>0.2</td>\n      <td>Iris-setosa</td>\n    </tr>\n    <tr>\n      <th>2</th>\n      <td>4.7</td>\n      <td>3.2</td>\n      <td>1.3</td>\n      <td>0.2</td>\n      <td>Iris-setosa</td>\n    </tr>\n    <tr>\n      <th>3</th>\n      <td>4.6</td>\n      <td>3.1</td>\n      <td>1.5</td>\n      <td>0.2</td>\n      <td>Iris-setosa</td>\n    </tr>\n    <tr>\n      <th>4</th>\n      <td>5.0</td>\n      <td>3.6</td>\n      <td>1.4</td>\n      <td>0.2</td>\n      <td>Iris-setosa</td>\n    </tr>\n    <tr>\n      <th>...</th>\n      <td>...</td>\n      <td>...</td>\n      <td>...</td>\n      <td>...</td>\n      <td>...</td>\n    </tr>\n    <tr>\n      <th>145</th>\n      <td>6.7</td>\n      <td>3.0</td>\n      <td>5.2</td>\n      <td>2.3</td>\n      <td>Iris-virginica</td>\n    </tr>\n    <tr>\n      <th>146</th>\n      <td>6.3</td>\n      <td>2.5</td>\n      <td>5.0</td>\n      <td>1.9</td>\n      <td>Iris-virginica</td>\n    </tr>\n    <tr>\n      <th>147</th>\n      <td>6.5</td>\n      <td>3.0</td>\n      <td>5.2</td>\n      <td>2.0</td>\n      <td>Iris-virginica</td>\n    </tr>\n    <tr>\n      <th>148</th>\n      <td>6.2</td>\n      <td>3.4</td>\n      <td>5.4</td>\n      <td>2.3</td>\n      <td>Iris-virginica</td>\n    </tr>\n    <tr>\n      <th>149</th>\n      <td>5.9</td>\n      <td>3.0</td>\n      <td>5.1</td>\n      <td>1.8</td>\n      <td>Iris-virginica</td>\n    </tr>\n  </tbody>\n</table>\n<p>150 rows × 5 columns</p>\n</div>"
     },
     "execution_count": 12,
     "metadata": {},
     "output_type": "execute_result"
    }
   ],
   "source": [
    "column_names = ['sepal_length', 'sepal_width', 'petal_length', 'petal_width', 'class']\n",
    "df = pd.read_csv('source/iris.txt', names=column_names)\n",
    "df"
   ],
   "metadata": {
    "collapsed": false,
    "ExecuteTime": {
     "end_time": "2023-10-22T20:38:12.554760500Z",
     "start_time": "2023-10-22T20:38:12.387162500Z"
    }
   }
  },
  {
   "cell_type": "code",
   "execution_count": 13,
   "outputs": [
    {
     "data": {
      "text/plain": "     sepal_length  sepal_width  petal_length  petal_width  class\n0             5.1          3.5           1.4          0.2      0\n1             4.9          3.0           1.4          0.2      0\n2             4.7          3.2           1.3          0.2      0\n3             4.6          3.1           1.5          0.2      0\n4             5.0          3.6           1.4          0.2      0\n..            ...          ...           ...          ...    ...\n145           6.7          3.0           5.2          2.3      2\n146           6.3          2.5           5.0          1.9      2\n147           6.5          3.0           5.2          2.0      2\n148           6.2          3.4           5.4          2.3      2\n149           5.9          3.0           5.1          1.8      2\n\n[150 rows x 5 columns]",
      "text/html": "<div>\n<style scoped>\n    .dataframe tbody tr th:only-of-type {\n        vertical-align: middle;\n    }\n\n    .dataframe tbody tr th {\n        vertical-align: top;\n    }\n\n    .dataframe thead th {\n        text-align: right;\n    }\n</style>\n<table border=\"1\" class=\"dataframe\">\n  <thead>\n    <tr style=\"text-align: right;\">\n      <th></th>\n      <th>sepal_length</th>\n      <th>sepal_width</th>\n      <th>petal_length</th>\n      <th>petal_width</th>\n      <th>class</th>\n    </tr>\n  </thead>\n  <tbody>\n    <tr>\n      <th>0</th>\n      <td>5.1</td>\n      <td>3.5</td>\n      <td>1.4</td>\n      <td>0.2</td>\n      <td>0</td>\n    </tr>\n    <tr>\n      <th>1</th>\n      <td>4.9</td>\n      <td>3.0</td>\n      <td>1.4</td>\n      <td>0.2</td>\n      <td>0</td>\n    </tr>\n    <tr>\n      <th>2</th>\n      <td>4.7</td>\n      <td>3.2</td>\n      <td>1.3</td>\n      <td>0.2</td>\n      <td>0</td>\n    </tr>\n    <tr>\n      <th>3</th>\n      <td>4.6</td>\n      <td>3.1</td>\n      <td>1.5</td>\n      <td>0.2</td>\n      <td>0</td>\n    </tr>\n    <tr>\n      <th>4</th>\n      <td>5.0</td>\n      <td>3.6</td>\n      <td>1.4</td>\n      <td>0.2</td>\n      <td>0</td>\n    </tr>\n    <tr>\n      <th>...</th>\n      <td>...</td>\n      <td>...</td>\n      <td>...</td>\n      <td>...</td>\n      <td>...</td>\n    </tr>\n    <tr>\n      <th>145</th>\n      <td>6.7</td>\n      <td>3.0</td>\n      <td>5.2</td>\n      <td>2.3</td>\n      <td>2</td>\n    </tr>\n    <tr>\n      <th>146</th>\n      <td>6.3</td>\n      <td>2.5</td>\n      <td>5.0</td>\n      <td>1.9</td>\n      <td>2</td>\n    </tr>\n    <tr>\n      <th>147</th>\n      <td>6.5</td>\n      <td>3.0</td>\n      <td>5.2</td>\n      <td>2.0</td>\n      <td>2</td>\n    </tr>\n    <tr>\n      <th>148</th>\n      <td>6.2</td>\n      <td>3.4</td>\n      <td>5.4</td>\n      <td>2.3</td>\n      <td>2</td>\n    </tr>\n    <tr>\n      <th>149</th>\n      <td>5.9</td>\n      <td>3.0</td>\n      <td>5.1</td>\n      <td>1.8</td>\n      <td>2</td>\n    </tr>\n  </tbody>\n</table>\n<p>150 rows × 5 columns</p>\n</div>"
     },
     "execution_count": 13,
     "metadata": {},
     "output_type": "execute_result"
    }
   ],
   "source": [
    "class_mapping = {\n",
    "    'Iris-setosa': 0,\n",
    "    'Iris-versicolor': 1,\n",
    "    'Iris-virginica': 2\n",
    "}\n",
    "\n",
    "df['class'] = df['class'].replace(class_mapping)\n",
    "df"
   ],
   "metadata": {
    "collapsed": false,
    "ExecuteTime": {
     "end_time": "2023-10-22T20:38:12.626664900Z",
     "start_time": "2023-10-22T20:38:12.554760500Z"
    }
   }
  },
  {
   "cell_type": "code",
   "execution_count": 14,
   "outputs": [
    {
     "data": {
      "text/plain": "15"
     },
     "execution_count": 14,
     "metadata": {},
     "output_type": "execute_result"
    }
   ],
   "source": [
    "# num_bins = int(1 + np.floor(np.log2(df.shape[0])))\n",
    "num_bins = 15\n",
    "num_bins"
   ],
   "metadata": {
    "collapsed": false,
    "ExecuteTime": {
     "end_time": "2023-10-22T20:38:12.689164800Z",
     "start_time": "2023-10-22T20:38:12.599345700Z"
    }
   }
  },
  {
   "cell_type": "code",
   "execution_count": 15,
   "outputs": [
    {
     "data": {
      "text/plain": "<Figure size 1600x800 with 3 Axes>",
      "image/png": "[encoded data removed]"
     },
     "metadata": {},
     "output_type": "display_data"
    }
   ],
   "source": [
    "fig, axes = plt.subplots(nrows=1, ncols=3, figsize=(16, 8))\n",
    "fig.subplots_adjust(hspace=0.5)\n",
    "fig.tight_layout()\n",
    "petal_length_by_classes = {}\n",
    "freqs_by_classes = {}\n",
    "bin_edges_by_classes = {}\n",
    "\n",
    "for class_number, ax in zip(range(min(df['class']), max(df['class']) + 1), axes.flatten()):\n",
    "    lengths = df[df['class'] == class_number]['petal_length']\n",
    "    petal_length_by_classes[class_number] = np.array(lengths)\n",
    "    histogram_length, bin_edges_length = np.histogram(lengths, bins=num_bins)\n",
    "    freqs_by_classes[class_number] = histogram_length\n",
    "    bin_edges_by_classes[class_number] = bin_edges_length\n",
    "    color = np.random.rand(3,)\n",
    "    ax.hist(lengths, bins=num_bins, color=color)\n",
    "    ax.set_xlabel('Length')\n",
    "    ax.set_ylabel('Frequency')\n",
    "    ax.set_title(f'Class {class_number}')\n",
    "\n",
    "for ax in axes.flatten():\n",
    "    ax.axis('off')"
   ],
   "metadata": {
    "collapsed": false,
    "ExecuteTime": {
     "end_time": "2023-10-22T20:38:14.102485800Z",
     "start_time": "2023-10-22T20:38:12.611030400Z"
    }
   }
  },
  {
   "cell_type": "code",
   "execution_count": 16,
   "outputs": [],
   "source": [
    "for class_number, freq in freqs_by_classes.items():\n",
    "    new_bin_edges = [-np.inf]  # Начинаем с первой границы\n",
    "    new_observed_freq = []  # Создаем новый список для наблюдаемых частот\n",
    "    current_bin_freq = 0  # Счетчик значений в текущем интервале\n",
    "\n",
    "    for i in range(1, len(bin_edges_by_classes[class_number])):\n",
    "        current_bin_freq += freq[i - 1]\n",
    "        if current_bin_freq >= 3:\n",
    "            new_bin_edges.append(bin_edges_by_classes[class_number][i])\n",
    "            new_observed_freq.append(current_bin_freq)\n",
    "            current_bin_freq = 0\n",
    "\n",
    "    # Последний интервал (если он остался) добавляем в последний интервал\n",
    "    if current_bin_freq > 0:\n",
    "        new_observed_freq[-1] += current_bin_freq\n",
    "\n",
    "    # Преобразуем списки в массивы numpy\n",
    "    new_observed_freq = np.array(new_observed_freq)\n",
    "    new_bin_edges = np.array(new_bin_edges)\n",
    "    new_bin_edges[-1] = np.inf\n",
    "\n",
    "    freqs_by_classes[class_number] = new_observed_freq / len(petal_length_by_classes[class_number])\n",
    "    bin_edges_by_classes[class_number] = new_bin_edges"
   ],
   "metadata": {
    "collapsed": false,
    "ExecuteTime": {
     "end_time": "2023-10-22T20:38:14.116977800Z",
     "start_time": "2023-10-22T20:38:14.102485800Z"
    }
   }
  },
  {
   "cell_type": "code",
   "execution_count": 17,
   "outputs": [
    {
     "data": {
      "text/plain": "{0: array([0.08, 0.14, 0.24, 0.28, 0.14, 0.12]),\n 1: array([0.06, 0.06, 0.1 , 0.16, 0.08, 0.26, 0.06, 0.14, 0.08]),\n 2: array([0.06, 0.06, 0.2 , 0.12, 0.18, 0.06, 0.1 , 0.1 , 0.12])}"
     },
     "execution_count": 17,
     "metadata": {},
     "output_type": "execute_result"
    }
   ],
   "source": [
    "freqs_by_classes"
   ],
   "metadata": {
    "collapsed": false,
    "ExecuteTime": {
     "end_time": "2023-10-22T20:38:14.461520900Z",
     "start_time": "2023-10-22T20:38:14.116977800Z"
    }
   }
  },
  {
   "cell_type": "code",
   "execution_count": 18,
   "outputs": [
    {
     "data": {
      "text/plain": "{0: array([-inf, 1.24, 1.36, 1.42, 1.54, 1.66,  inf]),\n 1: array([-inf, 3.42, 3.7 , 3.98, 4.12, 4.26, 4.54, 4.68, 4.82,  inf]),\n 2: array([-inf, 4.82, 4.98, 5.14, 5.46, 5.62, 5.78, 5.94, 6.1 ,  inf])}"
     },
     "execution_count": 18,
     "metadata": {},
     "output_type": "execute_result"
    }
   ],
   "source": [
    "bin_edges_by_classes"
   ],
   "metadata": {
    "collapsed": false,
    "ExecuteTime": {
     "end_time": "2023-10-22T20:38:14.461520900Z",
     "start_time": "2023-10-22T20:38:14.139738100Z"
    }
   }
  },
  {
   "cell_type": "code",
   "execution_count": 19,
   "outputs": [],
   "source": [
    "gamma = 0.95"
   ],
   "metadata": {
    "collapsed": false,
    "ExecuteTime": {
     "end_time": "2023-10-22T20:38:14.461520900Z",
     "start_time": "2023-10-22T20:38:14.154727200Z"
    }
   }
  },
  {
   "cell_type": "code",
   "execution_count": 23,
   "outputs": [
    {
     "data": {
      "text/plain": "   Class   Mean                       Conf_int for mean       Std       Dev  \\\n0    0.0  1.464  (1.462453388207783; 1.465546611792217)  0.171767  0.029504   \n1    1.0  4.260  (4.255811394142878; 4.264188605857122)  0.465188  0.216400   \n2    2.0  5.552  (5.547080622784447; 5.556919377215554)  0.546348  0.298496   \n\n                              Conf_int for dev  \n0  (0.03013476978364819; 0.030912523932879323)  \n1   (0.22102644323418755; 0.22673095780487687)  \n2   (0.30487758410181165; 0.31274622911702643)  ",
      "text/html": "<div>\n<style scoped>\n    .dataframe tbody tr th:only-of-type {\n        vertical-align: middle;\n    }\n\n    .dataframe tbody tr th {\n        vertical-align: top;\n    }\n\n    .dataframe thead th {\n        text-align: right;\n    }\n</style>\n<table border=\"1\" class=\"dataframe\">\n  <thead>\n    <tr style=\"text-align: right;\">\n      <th></th>\n      <th>Class</th>\n      <th>Mean</th>\n      <th>Conf_int for mean</th>\n      <th>Std</th>\n      <th>Dev</th>\n      <th>Conf_int for dev</th>\n    </tr>\n  </thead>\n  <tbody>\n    <tr>\n      <th>0</th>\n      <td>0.0</td>\n      <td>1.464</td>\n      <td>(1.462453388207783; 1.465546611792217)</td>\n      <td>0.171767</td>\n      <td>0.029504</td>\n      <td>(0.03013476978364819; 0.030912523932879323)</td>\n    </tr>\n    <tr>\n      <th>1</th>\n      <td>1.0</td>\n      <td>4.260</td>\n      <td>(4.255811394142878; 4.264188605857122)</td>\n      <td>0.465188</td>\n      <td>0.216400</td>\n      <td>(0.22102644323418755; 0.22673095780487687)</td>\n    </tr>\n    <tr>\n      <th>2</th>\n      <td>2.0</td>\n      <td>5.552</td>\n      <td>(5.547080622784447; 5.556919377215554)</td>\n      <td>0.546348</td>\n      <td>0.298496</td>\n      <td>(0.30487758410181165; 0.31274622911702643)</td>\n    </tr>\n  </tbody>\n</table>\n</div>"
     },
     "execution_count": 23,
     "metadata": {},
     "output_type": "execute_result"
    }
   ],
   "source": [
    "info = pd.DataFrame({'Class': [], 'Mean': [], 'Conf_int for mean': [], 'Std': [], 'Dev': [], 'Conf_int for dev': []})\n",
    "for class_number, length in petal_length_by_classes.items():\n",
    "    mean = np.mean(length)\n",
    "    std_dev = np.std(length)\n",
    "    dev = np.var(length)\n",
    "    info.loc[class_number, 'Class'] = class_number\n",
    "    info.loc[class_number, 'Mean'] = mean\n",
    "    info.loc[class_number, 'Std'] = std_dev\n",
    "    info.loc[class_number, 'Dev'] = dev\n",
    "    n_batch = len(length)\n",
    "    a_est_left = mean - stats.t.ppf(1 - gamma / 2, n_batch - 1) * std_dev / np.sqrt(n_batch-1)\n",
    "    a_est_right = mean + stats.t.ppf(1 - gamma / 2, n_batch - 1) * std_dev / np.sqrt(n_batch-1)\n",
    "    info.loc[class_number, 'Conf_int for mean'] = '(' + str(a_est_left) + '; ' + str(a_est_right) + ')'\n",
    "    chi_1_batches = stats.chi2.ppf(q=1 - gamma / 2, df=n_batch - 1)\n",
    "    chi_2_batches = stats.chi2.ppf(q=gamma / 2, df=n_batch - 1)\n",
    "    d_est_left = n_batch * dev / chi_1_batches\n",
    "    d_est_right = n_batch * dev / chi_2_batches\n",
    "    info.loc[class_number, 'Conf_int for dev'] = '(' + str(d_est_left) + '; ' + str(d_est_right) + ')'\n",
    "info"
   ],
   "metadata": {
    "collapsed": false,
    "ExecuteTime": {
     "end_time": "2023-10-22T20:40:11.099431600Z",
     "start_time": "2023-10-22T20:40:10.006360200Z"
    }
   }
  },
  {
   "cell_type": "code",
   "execution_count": 21,
   "outputs": [],
   "source": [
    "expected_freq_by_batches = {}\n",
    "for class_number, freq in freqs_by_classes.items():\n",
    "    expected_freq = []\n",
    "\n",
    "    for i in range(len(bin_edges_by_classes[class_number]) - 1):\n",
    "        lower_bound = bin_edges_by_classes[class_number][i]\n",
    "        upper_bound = bin_edges_by_classes[class_number][i + 1]\n",
    "        expected_count = stats.norm.cdf(upper_bound, loc=info.loc[class_number, 'Mean'], scale=info.loc[class_number, 'Std']) - stats.norm.cdf(lower_bound, loc=info.loc[class_number, 'Mean'], scale=info.loc[class_number, 'Std'])\n",
    "        expected_freq.append(expected_count)\n",
    "\n",
    "    expected_freq_by_batches[class_number] = expected_freq"
   ],
   "metadata": {
    "collapsed": false,
    "ExecuteTime": {
     "end_time": "2023-10-22T20:38:14.461520900Z",
     "start_time": "2023-10-22T20:38:14.300107800Z"
    }
   }
  },
  {
   "cell_type": "code",
   "execution_count": 22,
   "outputs": [
    {
     "name": "stdout",
     "output_type": "stream",
     "text": [
      "Класс № 0\n",
      "Выборка имеет нормальное распределение по Пирсону (p-value = 0.987766091724305 )\n",
      "Выборка имеет нормальное распределение по Колмогорову (p-value = 0.15262135387697784 )\n",
      "Выборка имеет нормальное распределение по Шапиро (p-value = 0.054648224264383316 )\n",
      "Класс № 1\n",
      "Выборка имеет нормальное распределение по Пирсону (p-value = 0.9998874377799385 )\n",
      "Выборка имеет нормальное распределение по Колмогорову (p-value = 0.45189575170718055 )\n",
      "Выборка имеет нормальное распределение по Шапиро (p-value = 0.1584763377904892 )\n",
      "Класс № 2\n",
      "Выборка имеет нормальное распределение по Пирсону (p-value = 0.9994382609769071 )\n",
      "Выборка имеет нормальное распределение по Колмогорову (p-value = 0.47673119334727443 )\n",
      "Выборка имеет нормальное распределение по Шапиро (p-value = 0.10977503657341003 )\n"
     ]
    }
   ],
   "source": [
    "for class_number, length in petal_length_by_classes.items():\n",
    "    chi_squared_statistic, chi_squared_p_value = stats.chisquare(f_obs=freqs_by_classes[class_number], f_exp=expected_freq_by_batches[class_number], ddof=2)\n",
    "    ks_statistic, ks_p_value = stats.kstest(length, 'norm', args=(info.loc[class_number, 'Mean'], info.loc[class_number, 'Std']))\n",
    "    omega2_statistic, omega2_p_value = stats.shapiro(length)\n",
    "    alpha = 0.05\n",
    "    print('Класс №', class_number)\n",
    "    if chi_squared_p_value < alpha:\n",
    "        print(\"Выборка не имеет нормальное распределение по Пирсону (p-value =\", chi_squared_p_value, \")\")\n",
    "    else:\n",
    "        print(\"Выборка имеет нормальное распределение по Пирсону (p-value =\", chi_squared_p_value, \")\")\n",
    "    if ks_p_value < alpha:\n",
    "        print(\"Выборка не имеет нормальное распределение по Колмогорову (p-value =\", ks_p_value, \")\")\n",
    "    else:\n",
    "        print(\"Выборка имеет нормальное распределение по Колмогорову (p-value =\", ks_p_value, \")\")\n",
    "    if omega2_p_value < alpha:\n",
    "        print(\"Выборка не имеет нормальное распределение по Шапиро (p-value =\", omega2_p_value, \")\")\n",
    "    else:\n",
    "        print(\"Выборка имеет нормальное распределение по Шапиро (p-value =\", omega2_p_value, \")\")"
   ],
   "metadata": {
    "collapsed": false,
    "ExecuteTime": {
     "end_time": "2023-10-22T20:38:14.461520900Z",
     "start_time": "2023-10-22T20:38:14.331875400Z"
    }
   }
  },
  {
   "cell_type": "code",
   "execution_count": 22,
   "outputs": [],
   "source": [],
   "metadata": {
    "collapsed": false,
    "ExecuteTime": {
     "end_time": "2023-10-22T20:38:14.461520900Z",
     "start_time": "2023-10-22T20:38:14.407429Z"
    }
   }
  }
 ],
 "metadata": {
  "kernelspec": {
   "display_name": "Python 3",
   "language": "python",
   "name": "python3"
  },
  "language_info": {
   "codemirror_mode": {
    "name": "ipython",
    "version": 2
   },
   "file_extension": ".py",
   "mimetype": "text/x-python",
   "name": "python",
   "nbconvert_exporter": "python",
   "pygments_lexer": "ipython2",
   "version": "2.7.6"
  }
 },
 "nbformat": 4,
 "nbformat_minor": 0
}
