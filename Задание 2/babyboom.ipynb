{
 "cells": [
  {
   "cell_type": "code",
   "execution_count": 224,
   "outputs": [],
   "source": [
    "import numpy as np\n",
    "import pandas as pd\n",
    "import matplotlib.pyplot as plt\n",
    "import scipy.stats as stats\n",
    "from scipy.stats import chisquare, kstest, normaltest"
   ],
   "metadata": {
    "collapsed": false
   }
  },
  {
   "cell_type": "code",
   "execution_count": 225,
   "outputs": [
    {
     "data": {
      "text/plain": "    Time_of_Birth  Sex  Birth_Weight  Minutes_After_Midnight\n0               5    1          3837                       5\n1             104    1          3334                      64\n2             118    2          3554                      78\n3             155    2          3838                     115\n4             257    2          3625                     177\n5             405    1          2208                     245\n6             407    1          1745                     247\n7             422    2          2846                     262\n8             431    2          3166                     271\n9             708    2          3520                     428\n10            735    2          3380                     455\n11            812    2          3294                     492\n12            814    1          2576                     494\n13            909    1          3208                     549\n14           1035    2          3521                     635\n15           1049    1          3746                     649\n16           1053    1          3523                     653\n17           1133    2          2902                     693\n18           1209    2          2635                     729\n19           1256    2          3920                     776\n20           1305    2          3690                     785\n21           1406    1          3430                     846\n22           1407    1          3480                     847\n23           1433    1          3116                     873\n24           1446    1          3428                     886\n25           1514    2          3783                     914\n26           1631    2          3345                     991\n27           1657    2          3034                    1017\n28           1742    1          2184                    1062\n29           1807    2          3300                    1087\n30           1825    1          2383                    1105\n31           1854    2          3428                    1134\n32           1909    2          4162                    1149\n33           1947    2          3630                    1187\n34           1949    2          3406                    1189\n35           1951    2          3402                    1191\n36           2010    1          3500                    1210\n37           2037    2          3736                    1237\n38           2051    2          3370                    1251\n39           2104    2          2121                    1264\n40           2123    2          3150                    1283\n41           2217    1          3866                    1337\n42           2327    1          3542                    1407\n43           2355    1          3278                    1435",
      "text/html": "<div>\n<style scoped>\n    .dataframe tbody tr th:only-of-type {\n        vertical-align: middle;\n    }\n\n    .dataframe tbody tr th {\n        vertical-align: top;\n    }\n\n    .dataframe thead th {\n        text-align: right;\n    }\n</style>\n<table border=\"1\" class=\"dataframe\">\n  <thead>\n    <tr style=\"text-align: right;\">\n      <th></th>\n      <th>Time_of_Birth</th>\n      <th>Sex</th>\n      <th>Birth_Weight</th>\n      <th>Minutes_After_Midnight</th>\n    </tr>\n  </thead>\n  <tbody>\n    <tr>\n      <th>0</th>\n      <td>5</td>\n      <td>1</td>\n      <td>3837</td>\n      <td>5</td>\n    </tr>\n    <tr>\n      <th>1</th>\n      <td>104</td>\n      <td>1</td>\n      <td>3334</td>\n      <td>64</td>\n    </tr>\n    <tr>\n      <th>2</th>\n      <td>118</td>\n      <td>2</td>\n      <td>3554</td>\n      <td>78</td>\n    </tr>\n    <tr>\n      <th>3</th>\n      <td>155</td>\n      <td>2</td>\n      <td>3838</td>\n      <td>115</td>\n    </tr>\n    <tr>\n      <th>4</th>\n      <td>257</td>\n      <td>2</td>\n      <td>3625</td>\n      <td>177</td>\n    </tr>\n    <tr>\n      <th>5</th>\n      <td>405</td>\n      <td>1</td>\n      <td>2208</td>\n      <td>245</td>\n    </tr>\n    <tr>\n      <th>6</th>\n      <td>407</td>\n      <td>1</td>\n      <td>1745</td>\n      <td>247</td>\n    </tr>\n    <tr>\n      <th>7</th>\n      <td>422</td>\n      <td>2</td>\n      <td>2846</td>\n      <td>262</td>\n    </tr>\n    <tr>\n      <th>8</th>\n      <td>431</td>\n      <td>2</td>\n      <td>3166</td>\n      <td>271</td>\n    </tr>\n    <tr>\n      <th>9</th>\n      <td>708</td>\n      <td>2</td>\n      <td>3520</td>\n      <td>428</td>\n    </tr>\n    <tr>\n      <th>10</th>\n      <td>735</td>\n      <td>2</td>\n      <td>3380</td>\n      <td>455</td>\n    </tr>\n    <tr>\n      <th>11</th>\n      <td>812</td>\n      <td>2</td>\n      <td>3294</td>\n      <td>492</td>\n    </tr>\n    <tr>\n      <th>12</th>\n      <td>814</td>\n      <td>1</td>\n      <td>2576</td>\n      <td>494</td>\n    </tr>\n    <tr>\n      <th>13</th>\n      <td>909</td>\n      <td>1</td>\n      <td>3208</td>\n      <td>549</td>\n    </tr>\n    <tr>\n      <th>14</th>\n      <td>1035</td>\n      <td>2</td>\n      <td>3521</td>\n      <td>635</td>\n    </tr>\n    <tr>\n      <th>15</th>\n      <td>1049</td>\n      <td>1</td>\n      <td>3746</td>\n      <td>649</td>\n    </tr>\n    <tr>\n      <th>16</th>\n      <td>1053</td>\n      <td>1</td>\n      <td>3523</td>\n      <td>653</td>\n    </tr>\n    <tr>\n      <th>17</th>\n      <td>1133</td>\n      <td>2</td>\n      <td>2902</td>\n      <td>693</td>\n    </tr>\n    <tr>\n      <th>18</th>\n      <td>1209</td>\n      <td>2</td>\n      <td>2635</td>\n      <td>729</td>\n    </tr>\n    <tr>\n      <th>19</th>\n      <td>1256</td>\n      <td>2</td>\n      <td>3920</td>\n      <td>776</td>\n    </tr>\n    <tr>\n      <th>20</th>\n      <td>1305</td>\n      <td>2</td>\n      <td>3690</td>\n      <td>785</td>\n    </tr>\n    <tr>\n      <th>21</th>\n      <td>1406</td>\n      <td>1</td>\n      <td>3430</td>\n      <td>846</td>\n    </tr>\n    <tr>\n      <th>22</th>\n      <td>1407</td>\n      <td>1</td>\n      <td>3480</td>\n      <td>847</td>\n    </tr>\n    <tr>\n      <th>23</th>\n      <td>1433</td>\n      <td>1</td>\n      <td>3116</td>\n      <td>873</td>\n    </tr>\n    <tr>\n      <th>24</th>\n      <td>1446</td>\n      <td>1</td>\n      <td>3428</td>\n      <td>886</td>\n    </tr>\n    <tr>\n      <th>25</th>\n      <td>1514</td>\n      <td>2</td>\n      <td>3783</td>\n      <td>914</td>\n    </tr>\n    <tr>\n      <th>26</th>\n      <td>1631</td>\n      <td>2</td>\n      <td>3345</td>\n      <td>991</td>\n    </tr>\n    <tr>\n      <th>27</th>\n      <td>1657</td>\n      <td>2</td>\n      <td>3034</td>\n      <td>1017</td>\n    </tr>\n    <tr>\n      <th>28</th>\n      <td>1742</td>\n      <td>1</td>\n      <td>2184</td>\n      <td>1062</td>\n    </tr>\n    <tr>\n      <th>29</th>\n      <td>1807</td>\n      <td>2</td>\n      <td>3300</td>\n      <td>1087</td>\n    </tr>\n    <tr>\n      <th>30</th>\n      <td>1825</td>\n      <td>1</td>\n      <td>2383</td>\n      <td>1105</td>\n    </tr>\n    <tr>\n      <th>31</th>\n      <td>1854</td>\n      <td>2</td>\n      <td>3428</td>\n      <td>1134</td>\n    </tr>\n    <tr>\n      <th>32</th>\n      <td>1909</td>\n      <td>2</td>\n      <td>4162</td>\n      <td>1149</td>\n    </tr>\n    <tr>\n      <th>33</th>\n      <td>1947</td>\n      <td>2</td>\n      <td>3630</td>\n      <td>1187</td>\n    </tr>\n    <tr>\n      <th>34</th>\n      <td>1949</td>\n      <td>2</td>\n      <td>3406</td>\n      <td>1189</td>\n    </tr>\n    <tr>\n      <th>35</th>\n      <td>1951</td>\n      <td>2</td>\n      <td>3402</td>\n      <td>1191</td>\n    </tr>\n    <tr>\n      <th>36</th>\n      <td>2010</td>\n      <td>1</td>\n      <td>3500</td>\n      <td>1210</td>\n    </tr>\n    <tr>\n      <th>37</th>\n      <td>2037</td>\n      <td>2</td>\n      <td>3736</td>\n      <td>1237</td>\n    </tr>\n    <tr>\n      <th>38</th>\n      <td>2051</td>\n      <td>2</td>\n      <td>3370</td>\n      <td>1251</td>\n    </tr>\n    <tr>\n      <th>39</th>\n      <td>2104</td>\n      <td>2</td>\n      <td>2121</td>\n      <td>1264</td>\n    </tr>\n    <tr>\n      <th>40</th>\n      <td>2123</td>\n      <td>2</td>\n      <td>3150</td>\n      <td>1283</td>\n    </tr>\n    <tr>\n      <th>41</th>\n      <td>2217</td>\n      <td>1</td>\n      <td>3866</td>\n      <td>1337</td>\n    </tr>\n    <tr>\n      <th>42</th>\n      <td>2327</td>\n      <td>1</td>\n      <td>3542</td>\n      <td>1407</td>\n    </tr>\n    <tr>\n      <th>43</th>\n      <td>2355</td>\n      <td>1</td>\n      <td>3278</td>\n      <td>1435</td>\n    </tr>\n  </tbody>\n</table>\n</div>"
     },
     "execution_count": 225,
     "metadata": {},
     "output_type": "execute_result"
    }
   ],
   "source": [
    "column_names = [\"Time_of_Birth\", \"Sex\", \"Birth_Weight\", \"Minutes_After_Midnight\"]\n",
    "column_widths = [8, 8, 8, 8]\n",
    "df = pd.read_fwf(\"source/babyboom.dat.txt\", widths=column_widths, names=column_names)\n",
    "df"
   ],
   "metadata": {
    "collapsed": false,
    "ExecuteTime": {
     "end_time": "2023-10-22T20:21:56.920591400Z",
     "start_time": "2023-10-22T20:21:56.617834700Z"
    }
   }
  },
  {
   "cell_type": "code",
   "execution_count": 226,
   "outputs": [
    {
     "data": {
      "text/plain": "15"
     },
     "execution_count": 226,
     "metadata": {},
     "output_type": "execute_result"
    }
   ],
   "source": [
    "# num_bins = int(1 + np.floor(np.log2(df.shape[0])))\n",
    "num_bins = 15\n",
    "num_bins"
   ],
   "metadata": {
    "collapsed": false,
    "ExecuteTime": {
     "end_time": "2023-10-22T20:21:57.016798100Z",
     "start_time": "2023-10-22T20:21:56.930089700Z"
    }
   }
  },
  {
   "cell_type": "markdown",
   "source": [
    "Проверка веса мланденцев"
   ],
   "metadata": {
    "collapsed": false
   }
  },
  {
   "cell_type": "code",
   "execution_count": 227,
   "outputs": [
    {
     "data": {
      "text/plain": "<Figure size 640x480 with 1 Axes>",
      "image/png": "[encoded data removed]"
     },
     "metadata": {},
     "output_type": "display_data"
    }
   ],
   "source": [
    "plt.hist(df['Birth_Weight'], bins=num_bins, density=True)\n",
    "plt.xlabel('Значения')\n",
    "plt.ylabel('Плотность')\n",
    "plt.title('Гистограмма выборки Birth_Weight')\n",
    "plt.show()"
   ],
   "metadata": {
    "collapsed": false,
    "ExecuteTime": {
     "end_time": "2023-10-22T20:21:57.369249400Z",
     "start_time": "2023-10-22T20:21:56.962359800Z"
    }
   }
  },
  {
   "cell_type": "code",
   "execution_count": 228,
   "outputs": [
    {
     "data": {
      "text/plain": "(array([1, 0, 3, 1, 0, 2, 1, 2, 3, 6, 9, 7, 6, 2, 1], dtype=int64),\n array([1745.        , 1906.13333333, 2067.26666667, 2228.4       ,\n        2389.53333333, 2550.66666667, 2711.8       , 2872.93333333,\n        3034.06666667, 3195.2       , 3356.33333333, 3517.46666667,\n        3678.6       , 3839.73333333, 4000.86666667, 4162.        ]))"
     },
     "execution_count": 228,
     "metadata": {},
     "output_type": "execute_result"
    }
   ],
   "source": [
    "histogram_weight, bin_edges_weight = np.histogram(df['Birth_Weight'], bins=num_bins)\n",
    "observed_freq_weight = histogram_weight\n",
    "observed_freq_weight, bin_edges_weight"
   ],
   "metadata": {
    "collapsed": false,
    "ExecuteTime": {
     "end_time": "2023-10-22T20:21:57.371438900Z",
     "start_time": "2023-10-22T20:21:57.335403500Z"
    }
   }
  },
  {
   "cell_type": "code",
   "execution_count": 229,
   "outputs": [
    {
     "data": {
      "text/plain": "(array([0.11363636, 0.11363636, 0.20454545, 0.20454545, 0.15909091,\n        0.20454545]),\n array([         -inf, 2389.53333333, 3034.06666667, 3356.33333333,\n        3517.46666667, 3678.6       ,           inf]),\n 1.0)"
     },
     "execution_count": 229,
     "metadata": {},
     "output_type": "execute_result"
    }
   ],
   "source": [
    "# Создаем новые интервалы\n",
    "new_bin_edges = [-np.inf]  # Начинаем с первой границы\n",
    "new_observed_freq = []  # Создаем новый список для наблюдаемых частот\n",
    "current_bin_freq = 0  # Счетчик значений в текущем интервале\n",
    "\n",
    "for i in range(1, len(bin_edges_weight)):\n",
    "    current_bin_freq += observed_freq_weight[i - 1]\n",
    "    if current_bin_freq >= 5:\n",
    "        new_bin_edges.append(bin_edges_weight[i])\n",
    "        new_observed_freq.append(current_bin_freq)\n",
    "        current_bin_freq = 0\n",
    "\n",
    "# Последний интервал (если он остался) добавляем в последний интервал\n",
    "if current_bin_freq > 0:\n",
    "    new_observed_freq[-1] += current_bin_freq\n",
    "\n",
    "# Преобразуем списки в массивы numpy\n",
    "new_observed_freq = np.array(new_observed_freq)\n",
    "new_bin_edges = np.array(new_bin_edges)\n",
    "new_bin_edges[-1] = np.inf\n",
    "\n",
    "observed_freq_weight = new_observed_freq / df.shape[0]\n",
    "bin_edges_weight = new_bin_edges\n",
    "observed_freq_weight, bin_edges_weight, sum(observed_freq_weight)"
   ],
   "metadata": {
    "collapsed": false,
    "ExecuteTime": {
     "end_time": "2023-10-22T20:21:57.572758600Z",
     "start_time": "2023-10-22T20:21:57.370438900Z"
    }
   }
  },
  {
   "cell_type": "code",
   "execution_count": 230,
   "outputs": [
    {
     "name": "stdout",
     "output_type": "stream",
     "text": [
      "Среднее:  3275.9545454545455\n",
      "Стандартное отклонение:  528.0324582405921\n",
      "Дисперсия:  278818.27695560263\n"
     ]
    }
   ],
   "source": [
    "mean_weight = df['Birth_Weight'].mean()\n",
    "std_dev_weight = df['Birth_Weight'].std()\n",
    "dev_weight = df['Birth_Weight'].var()\n",
    "print('Среднее: ', mean_weight)\n",
    "print('Стандартное отклонение: ', std_dev_weight)\n",
    "print('Дисперсия: ', dev_weight)"
   ],
   "metadata": {
    "collapsed": false,
    "ExecuteTime": {
     "end_time": "2023-10-22T20:21:57.572758600Z",
     "start_time": "2023-10-22T20:21:57.397706900Z"
    }
   }
  },
  {
   "cell_type": "code",
   "execution_count": 231,
   "outputs": [],
   "source": [
    "gamma = 0.95"
   ],
   "metadata": {
    "collapsed": false,
    "ExecuteTime": {
     "end_time": "2023-10-22T20:21:57.572758600Z",
     "start_time": "2023-10-22T20:21:57.427496300Z"
    }
   }
  },
  {
   "cell_type": "code",
   "execution_count": 277,
   "outputs": [
    {
     "name": "stdout",
     "output_type": "stream",
     "text": [
      "Доверительный интервал для среднего: ( 3270.875575506987 ;  3281.033515402104 )\n"
     ]
    }
   ],
   "source": [
    "n = df.shape[0]\n",
    "a_est_left_weight = mean_weight - stats.t.ppf(1 - gamma / 2, n - 1) * std_dev_weight / np.sqrt(n-1)\n",
    "a_est_right_weight = mean_weight + stats.t.ppf(1 - gamma / 2, n - 1) * std_dev_weight / np.sqrt(n-1)\n",
    "print('Доверительный интервал для среднего: (', a_est_left_weight, '; ', a_est_right_weight, ')')"
   ],
   "metadata": {
    "collapsed": false,
    "ExecuteTime": {
     "end_time": "2023-10-22T20:31:40.068574700Z",
     "start_time": "2023-10-22T20:31:39.951077Z"
    }
   }
  },
  {
   "cell_type": "code",
   "execution_count": 233,
   "outputs": [
    {
     "name": "stdout",
     "output_type": "stream",
     "text": [
      "Доверительный интервал для дисперсии: ( 285873.7119463273 ;  293762.9903000913 )\n"
     ]
    }
   ],
   "source": [
    "chi_1_weight = stats.chi2.ppf(q=1 - gamma / 2, df=n - 1)\n",
    "chi_2_weight = stats.chi2.ppf(q=gamma / 2, df=n - 1)\n",
    "d_est_left_weight = n * dev_weight / chi_1_weight\n",
    "d_est_right_weight = n * dev_weight / chi_2_weight\n",
    "print('Доверительный интервал для дисперсии: (', d_est_left_weight, '; ', d_est_right_weight, ')')"
   ],
   "metadata": {
    "collapsed": false,
    "ExecuteTime": {
     "end_time": "2023-10-22T20:21:57.572758600Z",
     "start_time": "2023-10-22T20:21:57.486616500Z"
    }
   }
  },
  {
   "cell_type": "code",
   "execution_count": 234,
   "outputs": [
    {
     "data": {
      "text/plain": "([0.04660283975417198,\n  0.27684003815697655,\n  0.23705167201396915,\n  0.11580691391746112,\n  0.10082941147156399,\n  0.22286912468585718],\n 1.0)"
     },
     "execution_count": 234,
     "metadata": {},
     "output_type": "execute_result"
    }
   ],
   "source": [
    "expected_freq_weight = []\n",
    "\n",
    "for i in range(len(bin_edges_weight) - 1):\n",
    "    lower_bound = bin_edges_weight[i]\n",
    "    upper_bound = bin_edges_weight[i + 1]\n",
    "    expected_count = stats.norm.cdf(upper_bound, loc=mean_weight, scale=std_dev_weight) - stats.norm.cdf(lower_bound, loc=mean_weight, scale=std_dev_weight)\n",
    "    expected_freq_weight.append(expected_count)\n",
    "\n",
    "expected_freq_weight, sum(expected_freq_weight)"
   ],
   "metadata": {
    "collapsed": false,
    "ExecuteTime": {
     "end_time": "2023-10-22T20:21:57.577334500Z",
     "start_time": "2023-10-22T20:21:57.519663300Z"
    }
   }
  },
  {
   "cell_type": "code",
   "execution_count": 235,
   "outputs": [
    {
     "name": "stdout",
     "output_type": "stream",
     "text": [
      "Выборка имеет нормальное распределение (p-value = 0.9599797134773039 )\n"
     ]
    }
   ],
   "source": [
    "chi_squared_statistic_weight, chi_squared_p_value_weight = stats.chisquare(f_obs=observed_freq_weight, f_exp=expected_freq_weight, ddof=2)\n",
    "alpha = 0.05\n",
    "if chi_squared_p_value_weight < alpha:\n",
    "    print(\"Выборка не имеет нормальное распределение (p-value =\", chi_squared_p_value_weight, \")\")\n",
    "else:\n",
    "    print(\"Выборка имеет нормальное распределение (p-value =\", chi_squared_p_value_weight, \")\")"
   ],
   "metadata": {
    "collapsed": false,
    "ExecuteTime": {
     "end_time": "2023-10-22T20:21:57.796946800Z",
     "start_time": "2023-10-22T20:21:57.567698700Z"
    }
   }
  },
  {
   "cell_type": "code",
   "execution_count": 236,
   "outputs": [
    {
     "name": "stdout",
     "output_type": "stream",
     "text": [
      "Выборка имеет нормальное распределение (p-value = 0.09106523162555868 )\n"
     ]
    }
   ],
   "source": [
    "ks_statistic_weight, ks_p_value_weight = stats.kstest(df['Birth_Weight'], 'norm', args=(mean_weight, std_dev_weight))\n",
    "alpha = 0.05\n",
    "if ks_p_value_weight < alpha:\n",
    "    print(\"Выборка не имеет нормальное распределение (p-value =\", ks_p_value_weight, \")\")\n",
    "else:\n",
    "    print(\"Выборка имеет нормальное распределение (p-value =\", ks_p_value_weight, \")\")"
   ],
   "metadata": {
    "collapsed": false,
    "ExecuteTime": {
     "end_time": "2023-10-22T20:21:57.817580300Z",
     "start_time": "2023-10-22T20:21:57.610144300Z"
    }
   }
  },
  {
   "cell_type": "code",
   "execution_count": 237,
   "outputs": [
    {
     "name": "stdout",
     "output_type": "stream",
     "text": [
      "Выборка не имеет нормальное распределение (p-value = 0.0009944075718522072 )\n"
     ]
    }
   ],
   "source": [
    "omega2_statistic_weight, omega2_p_value_weight = stats.shapiro(df['Birth_Weight'])\n",
    "alpha = 0.05\n",
    "if omega2_p_value_weight < alpha:\n",
    "    print(\"Выборка не имеет нормальное распределение (p-value =\", omega2_p_value_weight, \")\")\n",
    "else:\n",
    "    print(\"Выборка имеет нормальное распределение (p-value =\", omega2_p_value_weight, \")\")"
   ],
   "metadata": {
    "collapsed": false,
    "ExecuteTime": {
     "end_time": "2023-10-22T20:21:57.865286900Z",
     "start_time": "2023-10-22T20:21:57.643492900Z"
    }
   }
  },
  {
   "cell_type": "markdown",
   "source": [
    "Проверка веса мальчиков"
   ],
   "metadata": {
    "collapsed": false,
    "ExecuteTime": {
     "end_time": "2023-09-28T11:27:22.406381800Z",
     "start_time": "2023-09-28T11:27:22.274237100Z"
    }
   },
   "outputs": [
    {
     "data": {
      "text/plain": "2     3554\n3     3838\n4     3625\n7     2846\n8     3166\n9     3520\n10    3380\n11    3294\n14    3521\n17    2902\n18    2635\n19    3920\n20    3690\n25    3783\n26    3345\n27    3034\n29    3300\n31    3428\n32    4162\n33    3630\n34    3406\n35    3402\n37    3736\n38    3370\n39    2121\n40    3150\nName: Birth_Weight, dtype: int64"
     },
     "execution_count": 154,
     "metadata": {},
     "output_type": "execute_result"
    }
   ],
   "execution_count": 154
  },
  {
   "cell_type": "code",
   "execution_count": 238,
   "outputs": [
    {
     "data": {
      "text/plain": "2     3554\n3     3838\n4     3625\n7     2846\n8     3166\n9     3520\n10    3380\n11    3294\n14    3521\n17    2902\n18    2635\n19    3920\n20    3690\n25    3783\n26    3345\n27    3034\n29    3300\n31    3428\n32    4162\n33    3630\n34    3406\n35    3402\n37    3736\n38    3370\n39    2121\n40    3150\nName: Birth_Weight, dtype: int64"
     },
     "execution_count": 238,
     "metadata": {},
     "output_type": "execute_result"
    }
   ],
   "source": [
    "boys_weight = df[df['Sex'] == 2]['Birth_Weight']\n",
    "boys_weight"
   ],
   "metadata": {
    "collapsed": false,
    "ExecuteTime": {
     "end_time": "2023-10-22T20:21:57.866374600Z",
     "start_time": "2023-10-22T20:21:57.662825100Z"
    }
   }
  },
  {
   "cell_type": "code",
   "execution_count": 239,
   "outputs": [
    {
     "data": {
      "text/plain": "<Figure size 640x480 with 1 Axes>",
      "image/png": "[encoded data removed]"
     },
     "metadata": {},
     "output_type": "display_data"
    }
   ],
   "source": [
    "plt.hist(boys_weight, bins=num_bins, density=True)\n",
    "plt.xlabel('Значения')\n",
    "plt.ylabel('Плотность')\n",
    "plt.title('Гистограмма выборки boys_weight')\n",
    "plt.show()"
   ],
   "metadata": {
    "collapsed": false,
    "ExecuteTime": {
     "end_time": "2023-10-22T20:21:58.051389800Z",
     "start_time": "2023-10-22T20:21:57.700822300Z"
    }
   }
  },
  {
   "cell_type": "code",
   "execution_count": 240,
   "outputs": [
    {
     "data": {
      "text/plain": "(array([1, 0, 0, 1, 0, 2, 1, 2, 3, 5, 3, 4, 2, 1, 1], dtype=int64),\n array([2121.        , 2257.06666667, 2393.13333333, 2529.2       ,\n        2665.26666667, 2801.33333333, 2937.4       , 3073.46666667,\n        3209.53333333, 3345.6       , 3481.66666667, 3617.73333333,\n        3753.8       , 3889.86666667, 4025.93333333, 4162.        ]))"
     },
     "execution_count": 240,
     "metadata": {},
     "output_type": "execute_result"
    }
   ],
   "source": [
    "histogram_boys, bin_edges_boys = np.histogram(boys_weight, bins=num_bins)\n",
    "observed_freq_boys = histogram_boys\n",
    "observed_freq_boys, bin_edges_boys"
   ],
   "metadata": {
    "collapsed": false,
    "ExecuteTime": {
     "end_time": "2023-10-22T20:21:58.065211200Z",
     "start_time": "2023-10-22T20:21:58.046305100Z"
    }
   }
  },
  {
   "cell_type": "code",
   "execution_count": 241,
   "outputs": [
    {
     "data": {
      "text/plain": "(array([0.19230769, 0.19230769, 0.19230769, 0.42307692]),\n array([         -inf, 3073.46666667, 3345.6       , 3481.66666667,\n                  inf]),\n 1.0)"
     },
     "execution_count": 241,
     "metadata": {},
     "output_type": "execute_result"
    }
   ],
   "source": [
    "# Создаем новые интервалы\n",
    "new_bin_edges_boys = [-np.inf]  # Начинаем с первой границы\n",
    "new_observed_freq_boys = []  # Создаем новый список для наблюдаемых частот\n",
    "current_bin_freq_boys = 0  # Счетчик значений в текущем интервале\n",
    "\n",
    "for i in range(1, len(bin_edges_boys)):\n",
    "    current_bin_freq_boys += observed_freq_boys[i - 1]\n",
    "    if current_bin_freq_boys >= 5:\n",
    "        new_bin_edges_boys.append(bin_edges_boys[i])\n",
    "        new_observed_freq_boys.append(current_bin_freq_boys)\n",
    "        current_bin_freq_boys = 0\n",
    "\n",
    "# Последний интервал (если он остался) добавляем в последний интервал\n",
    "if current_bin_freq_boys > 0:\n",
    "    new_observed_freq_boys[-1] += current_bin_freq_boys\n",
    "\n",
    "# Преобразуем списки в массивы numpy\n",
    "new_observed_freq_boys = np.array(new_observed_freq_boys)\n",
    "new_bin_edges_boys = np.array(new_bin_edges_boys)\n",
    "new_bin_edges_boys[-1] = np.inf\n",
    "\n",
    "observed_freq_boys = new_observed_freq_boys / len(boys_weight)\n",
    "bin_edges_boys = new_bin_edges_boys\n",
    "observed_freq_boys, bin_edges_boys, sum(observed_freq_boys)"
   ],
   "metadata": {
    "collapsed": false,
    "ExecuteTime": {
     "end_time": "2023-10-22T20:21:58.202098400Z",
     "start_time": "2023-10-22T20:21:58.065211200Z"
    }
   }
  },
  {
   "cell_type": "code",
   "execution_count": 242,
   "outputs": [
    {
     "name": "stdout",
     "output_type": "stream",
     "text": [
      "Среднее:  3375.3076923076924\n",
      "Стандартное отклонение:  428.0460507217203\n",
      "Дисперсия:  183223.42153846152\n"
     ]
    }
   ],
   "source": [
    "mean_boys = boys_weight.mean()\n",
    "std_dev_boys = boys_weight.std()\n",
    "dev_boys = boys_weight.var()\n",
    "print('Среднее: ', mean_boys)\n",
    "print('Стандартное отклонение: ', std_dev_boys)\n",
    "print('Дисперсия: ', dev_boys)"
   ],
   "metadata": {
    "collapsed": false,
    "ExecuteTime": {
     "end_time": "2023-10-22T20:21:58.202098400Z",
     "start_time": "2023-10-22T20:21:58.097021200Z"
    }
   }
  },
  {
   "cell_type": "code",
   "execution_count": 278,
   "outputs": [
    {
     "name": "stdout",
     "output_type": "stream",
     "text": [
      "Доверительный интервал для среднего: ( 3369.8852601375056 ;  3380.730124477879 )\n"
     ]
    }
   ],
   "source": [
    "n_boys = len(boys_weight)\n",
    "a_est_left_boys = mean_boys - stats.t.ppf(1 - gamma / 2, n_boys - 1) * std_dev_boys / np.sqrt(n_boys-1)\n",
    "a_est_right_boys = mean_boys + stats.t.ppf(1 - gamma / 2, n_boys - 1) * std_dev_boys / np.sqrt(n_boys-1)\n",
    "print('Доверительный интервал для среднего: (', a_est_left_boys, '; ', a_est_right_boys, ')')"
   ],
   "metadata": {
    "collapsed": false,
    "ExecuteTime": {
     "end_time": "2023-10-22T20:33:05.514794200Z",
     "start_time": "2023-10-22T20:33:05.464832100Z"
    }
   }
  },
  {
   "cell_type": "code",
   "execution_count": 279,
   "outputs": [
    {
     "name": "stdout",
     "output_type": "stream",
     "text": [
      "Доверительный интервал для дисперсии: ( 192277.61348058018 ;  199299.84269056882 )\n"
     ]
    }
   ],
   "source": [
    "chi_1_boys = stats.chi2.ppf(q=1 - gamma / 2, df=n_boys - 1)\n",
    "chi_2_boys = stats.chi2.ppf(q=gamma / 2, df=n_boys - 1)\n",
    "d_est_left_boys = n_boys * dev_boys / chi_1_boys\n",
    "d_est_right_boys = n_boys * dev_boys / chi_2_boys\n",
    "print('Доверительный интервал для дисперсии: (', d_est_left_boys, '; ', d_est_right_boys, ')')"
   ],
   "metadata": {
    "collapsed": false,
    "ExecuteTime": {
     "end_time": "2023-10-22T20:33:23.275446900Z",
     "start_time": "2023-10-22T20:33:22.685626600Z"
    }
   }
  },
  {
   "cell_type": "code",
   "execution_count": 245,
   "outputs": [
    {
     "data": {
      "text/plain": "([0.2403552827324576,\n  0.23197912639090051,\n  0.12578234505801744,\n  0.40188324581862445],\n 1.0)"
     },
     "execution_count": 245,
     "metadata": {},
     "output_type": "execute_result"
    }
   ],
   "source": [
    "expected_freq_boys = []\n",
    "\n",
    "for i in range(len(bin_edges_boys) - 1):\n",
    "    lower_bound = bin_edges_boys[i]\n",
    "    upper_bound = bin_edges_boys[i + 1]\n",
    "    expected_count = stats.norm.cdf(upper_bound, loc=mean_boys, scale=std_dev_boys) - stats.norm.cdf(lower_bound, loc=mean_boys, scale=std_dev_boys)\n",
    "    expected_freq_boys.append(expected_count)\n",
    "\n",
    "expected_freq_boys, sum(expected_freq_boys)"
   ],
   "metadata": {
    "collapsed": false,
    "ExecuteTime": {
     "end_time": "2023-10-22T20:21:58.202098400Z",
     "start_time": "2023-10-22T20:21:58.161832700Z"
    }
   }
  },
  {
   "cell_type": "code",
   "execution_count": 246,
   "outputs": [
    {
     "name": "stdout",
     "output_type": "stream",
     "text": [
      "Выборка имеет нормальное распределение (p-value = 0.8184442008608317 )\n"
     ]
    }
   ],
   "source": [
    "chi_squared_statistic_boys, chi_squared_p_value_boys = stats.chisquare(f_obs=observed_freq_boys, f_exp=expected_freq_boys, ddof=2)\n",
    "alpha = 0.05\n",
    "if chi_squared_p_value_boys < alpha:\n",
    "    print(\"Выборка не имеет нормальное распределение (p-value =\", chi_squared_p_value_boys, \")\")\n",
    "else:\n",
    "    print(\"Выборка имеет нормальное распределение (p-value =\", chi_squared_p_value_boys, \")\")"
   ],
   "metadata": {
    "collapsed": false,
    "ExecuteTime": {
     "end_time": "2023-10-22T20:21:58.235766700Z",
     "start_time": "2023-10-22T20:21:58.189585500Z"
    }
   }
  },
  {
   "cell_type": "code",
   "execution_count": 247,
   "outputs": [
    {
     "name": "stdout",
     "output_type": "stream",
     "text": [
      "Выборка имеет нормальное распределение (p-value = 0.5070763720555325 )\n"
     ]
    }
   ],
   "source": [
    "ks_statistic_boys, ks_p_value_boys = stats.kstest(boys_weight, 'norm', args=(mean_boys, std_dev_boys))\n",
    "alpha = 0.05\n",
    "if ks_p_value_boys < alpha:\n",
    "    print(\"Выборка не имеет нормальное распределение (p-value =\", ks_p_value_boys, \")\")\n",
    "else:\n",
    "    print(\"Выборка имеет нормальное распределение (p-value =\", ks_p_value_boys, \")\")"
   ],
   "metadata": {
    "collapsed": false,
    "ExecuteTime": {
     "end_time": "2023-10-22T20:21:58.465007900Z",
     "start_time": "2023-10-22T20:21:58.211424700Z"
    }
   }
  },
  {
   "cell_type": "code",
   "execution_count": 248,
   "outputs": [
    {
     "name": "stdout",
     "output_type": "stream",
     "text": [
      "Выборка не имеет нормальное распределение (p-value = 0.02287917589120297 )\n"
     ]
    }
   ],
   "source": [
    "omega2_statistic_boys, omega2_p_value_boys = stats.normaltest(boys_weight)\n",
    "alpha = 0.05\n",
    "if omega2_p_value_boys < alpha:\n",
    "    print(\"Выборка не имеет нормальное распределение (p-value =\", omega2_p_value_boys, \")\")\n",
    "else:\n",
    "    print(\"Выборка имеет нормальное распределение (p-value =\", omega2_p_value_boys, \")\")"
   ],
   "metadata": {
    "collapsed": false,
    "ExecuteTime": {
     "end_time": "2023-10-22T20:21:58.487299300Z",
     "start_time": "2023-10-22T20:21:58.237765600Z"
    }
   }
  },
  {
   "cell_type": "markdown",
   "source": [
    "Проверка веса девочек"
   ],
   "metadata": {
    "collapsed": false,
    "ExecuteTime": {
     "end_time": "2023-09-28T11:27:23.931919100Z",
     "start_time": "2023-09-28T11:27:23.761582500Z"
    }
   },
   "outputs": [
    {
     "data": {
      "text/plain": "0     3837\n1     3334\n5     2208\n6     1745\n12    2576\n13    3208\n15    3746\n16    3523\n21    3430\n22    3480\n23    3116\n24    3428\n28    2184\n30    2383\n36    3500\n41    3866\n42    3542\n43    3278\nName: Birth_Weight, dtype: int64"
     },
     "execution_count": 165,
     "metadata": {},
     "output_type": "execute_result"
    }
   ],
   "execution_count": 165
  },
  {
   "cell_type": "code",
   "execution_count": 249,
   "outputs": [
    {
     "data": {
      "text/plain": "0     3837\n1     3334\n5     2208\n6     1745\n12    2576\n13    3208\n15    3746\n16    3523\n21    3430\n22    3480\n23    3116\n24    3428\n28    2184\n30    2383\n36    3500\n41    3866\n42    3542\n43    3278\nName: Birth_Weight, dtype: int64"
     },
     "execution_count": 249,
     "metadata": {},
     "output_type": "execute_result"
    }
   ],
   "source": [
    "girls_weight = df[df['Sex'] == 1]['Birth_Weight']\n",
    "girls_weight"
   ],
   "metadata": {
    "collapsed": false,
    "ExecuteTime": {
     "end_time": "2023-10-22T20:21:58.507518800Z",
     "start_time": "2023-10-22T20:21:58.267485500Z"
    }
   }
  },
  {
   "cell_type": "code",
   "execution_count": 250,
   "outputs": [
    {
     "data": {
      "text/plain": "<Figure size 640x480 with 1 Axes>",
      "image/png": "[encoded data removed]"
     },
     "metadata": {},
     "output_type": "display_data"
    }
   ],
   "source": [
    "plt.hist(girls_weight, bins=num_bins, density=True)\n",
    "plt.xlabel('Значения')\n",
    "plt.ylabel('Плотность')\n",
    "plt.title('Гистограмма выборки girls_weight')\n",
    "plt.show()"
   ],
   "metadata": {
    "collapsed": false,
    "ExecuteTime": {
     "end_time": "2023-10-22T20:21:58.691868100Z",
     "start_time": "2023-10-22T20:21:58.309761100Z"
    }
   }
  },
  {
   "cell_type": "code",
   "execution_count": 251,
   "outputs": [
    {
     "data": {
      "text/plain": "(array([1, 0, 0, 2, 1, 1, 0, 0, 0, 1, 2, 3, 4, 0, 3], dtype=int64),\n array([1745. , 1886.4, 2027.8, 2169.2, 2310.6, 2452. , 2593.4, 2734.8,\n        2876.2, 3017.6, 3159. , 3300.4, 3441.8, 3583.2, 3724.6, 3866. ]))"
     },
     "execution_count": 251,
     "metadata": {},
     "output_type": "execute_result"
    }
   ],
   "source": [
    "histogram_girls, bin_edges_girls = np.histogram(girls_weight, bins=num_bins)\n",
    "observed_freq_girls = histogram_girls\n",
    "observed_freq_girls, bin_edges_girls"
   ],
   "metadata": {
    "collapsed": false,
    "ExecuteTime": {
     "end_time": "2023-10-22T20:21:58.717073600Z",
     "start_time": "2023-10-22T20:21:58.703965Z"
    }
   }
  },
  {
   "cell_type": "code",
   "execution_count": 252,
   "outputs": [
    {
     "data": {
      "text/plain": "(array([0.16666667, 0.16666667, 0.27777778, 0.22222222, 0.16666667]),\n array([  -inf, 2310.6, 3159. , 3441.8, 3583.2,    inf]),\n 1.0)"
     },
     "execution_count": 252,
     "metadata": {},
     "output_type": "execute_result"
    }
   ],
   "source": [
    "# Создаем новые интервалы\n",
    "new_bin_edges_girls = [-np.inf]  # Начинаем с первой границы\n",
    "new_observed_freq_girls = []  # Создаем новый список для наблюдаемых частот\n",
    "current_bin_freq_girls = 0  # Счетчик значений в текущем интервале\n",
    "\n",
    "for i in range(1, len(bin_edges_girls)):\n",
    "    current_bin_freq_girls += observed_freq_girls[i - 1]\n",
    "    if current_bin_freq_girls >= 3:\n",
    "        new_bin_edges_girls.append(bin_edges_girls[i])\n",
    "        new_observed_freq_girls.append(current_bin_freq_girls)\n",
    "        current_bin_freq_girls = 0\n",
    "\n",
    "# Последний интервал (если он остался) добавляем в последний интервал\n",
    "if current_bin_freq_girls > 0:\n",
    "    new_observed_freq_girls[-1] += current_bin_freq_girls\n",
    "\n",
    "# Преобразуем списки в массивы numpy\n",
    "new_observed_freq_girls = np.array(new_observed_freq_girls)\n",
    "new_bin_edges_girls = np.array(new_bin_edges_girls)\n",
    "new_bin_edges_girls[-1] = np.inf\n",
    "\n",
    "observed_freq_girls = new_observed_freq_girls / len(girls_weight)\n",
    "bin_edges_girls = new_bin_edges_girls\n",
    "observed_freq_girls, bin_edges_girls, sum(observed_freq_girls)"
   ],
   "metadata": {
    "collapsed": false,
    "ExecuteTime": {
     "end_time": "2023-10-22T20:21:58.853030Z",
     "start_time": "2023-10-22T20:21:58.726391400Z"
    }
   }
  },
  {
   "cell_type": "code",
   "execution_count": 253,
   "outputs": [
    {
     "name": "stdout",
     "output_type": "stream",
     "text": [
      "Среднее:  3132.4444444444443\n",
      "Стандартное отклонение:  631.582533586883\n",
      "Дисперсия:  398896.49673202616\n"
     ]
    }
   ],
   "source": [
    "mean_girls = girls_weight.mean()\n",
    "std_dev_girls = girls_weight.std()\n",
    "dev_girls = girls_weight.var()\n",
    "print('Среднее: ', mean_girls)\n",
    "print('Стандартное отклонение: ', std_dev_girls)\n",
    "print('Дисперсия: ', dev_girls)"
   ],
   "metadata": {
    "collapsed": false,
    "ExecuteTime": {
     "end_time": "2023-10-22T20:21:58.853030Z",
     "start_time": "2023-10-22T20:21:58.742263500Z"
    }
   }
  },
  {
   "cell_type": "code",
   "execution_count": 281,
   "outputs": [
    {
     "name": "stdout",
     "output_type": "stream",
     "text": [
      "Доверительный интервал для среднего: ( 3122.6961444757626 ;  3142.192744413126 )\n"
     ]
    }
   ],
   "source": [
    "n_girls = len(girls_weight)\n",
    "a_est_left_girls = mean_girls - stats.t.ppf(1 - gamma / 2, n_girls - 1) * std_dev_girls / np.sqrt(n_girls-1)\n",
    "a_est_right_girls = mean_girls + stats.t.ppf(1 - gamma / 2, n_girls - 1) * std_dev_girls / np.sqrt(n_girls-1)\n",
    "print('Доверительный интервал для среднего: (', a_est_left_girls, '; ', a_est_right_girls, ')')"
   ],
   "metadata": {
    "collapsed": false,
    "ExecuteTime": {
     "end_time": "2023-10-22T20:34:06.036392Z",
     "start_time": "2023-10-22T20:34:05.981218300Z"
    }
   }
  },
  {
   "cell_type": "code",
   "execution_count": 282,
   "outputs": [
    {
     "name": "stdout",
     "output_type": "stream",
     "text": [
      "Доверительный интервал для дисперсии: ( 429999.27766096813 ;  449219.8621942322 )\n"
     ]
    }
   ],
   "source": [
    "chi_1_girls = stats.chi2.ppf(q=1 - gamma / 2, df=n_girls - 1)\n",
    "chi_2_girls = stats.chi2.ppf(q=gamma / 2, df=n_girls - 1)\n",
    "d_est_left_girls = n_girls * dev_girls / chi_1_girls\n",
    "d_est_right_girls = n_girls * dev_girls / chi_2_girls\n",
    "print('Доверительный интервал для дисперсии: (', d_est_left_girls, '; ', d_est_right_girls, ')')"
   ],
   "metadata": {
    "collapsed": false,
    "ExecuteTime": {
     "end_time": "2023-10-22T20:34:18.180310100Z",
     "start_time": "2023-10-22T20:34:18.136333900Z"
    }
   }
  },
  {
   "cell_type": "code",
   "execution_count": 256,
   "outputs": [
    {
     "data": {
      "text/plain": "([0.09658707832323682,\n  0.420181930705297,\n  0.1710968783800476,\n  0.0744253608209855,\n  0.23770875177043305],\n 1.0)"
     },
     "execution_count": 256,
     "metadata": {},
     "output_type": "execute_result"
    }
   ],
   "source": [
    "expected_freq_girls = []\n",
    "\n",
    "for i in range(len(bin_edges_girls) - 1):\n",
    "    lower_bound = bin_edges_girls[i]\n",
    "    upper_bound = bin_edges_girls[i + 1]\n",
    "    expected_count = stats.norm.cdf(upper_bound, loc=mean_girls, scale=std_dev_girls) - stats.norm.cdf(lower_bound, loc=mean_girls, scale=std_dev_girls)\n",
    "    expected_freq_girls.append(expected_count)\n",
    "\n",
    "expected_freq_girls, sum(expected_freq_girls)"
   ],
   "metadata": {
    "collapsed": false,
    "ExecuteTime": {
     "end_time": "2023-10-22T20:21:58.853030Z",
     "start_time": "2023-10-22T20:21:58.822585300Z"
    }
   }
  },
  {
   "cell_type": "code",
   "execution_count": 257,
   "outputs": [
    {
     "name": "stdout",
     "output_type": "stream",
     "text": [
      "Выборка имеет нормальное распределение (p-value = 0.7463751453322932 )\n"
     ]
    }
   ],
   "source": [
    "chi_squared_statistic_girls, chi_squared_p_value_girls = stats.chisquare(f_obs=observed_freq_girls, f_exp=expected_freq_girls, ddof=2)\n",
    "alpha = 0.05\n",
    "if chi_squared_p_value_girls < alpha:\n",
    "    print(\"Выборка не имеет нормальное распределение (p-value =\", chi_squared_p_value_girls, \")\")\n",
    "else:\n",
    "    print(\"Выборка имеет нормальное распределение (p-value =\", chi_squared_p_value_girls, \")\")"
   ],
   "metadata": {
    "collapsed": false,
    "ExecuteTime": {
     "end_time": "2023-10-22T20:21:59.117976700Z",
     "start_time": "2023-10-22T20:21:58.853030Z"
    }
   }
  },
  {
   "cell_type": "code",
   "execution_count": 258,
   "outputs": [
    {
     "name": "stdout",
     "output_type": "stream",
     "text": [
      "Выборка имеет нормальное распределение (p-value = 0.3315835424835907 )\n"
     ]
    }
   ],
   "source": [
    "ks_statistic_girls, ks_p_value_girls = stats.kstest(girls_weight, 'norm', args=(mean_girls, std_dev_girls))\n",
    "alpha = 0.05\n",
    "if ks_p_value_girls < alpha:\n",
    "    print(\"Выборка не имеет нормальное распределение (p-value =\", ks_p_value_girls, \")\")\n",
    "else:\n",
    "    print(\"Выборка имеет нормальное распределение (p-value =\", ks_p_value_girls, \")\")"
   ],
   "metadata": {
    "collapsed": false,
    "ExecuteTime": {
     "end_time": "2023-10-22T20:21:59.267287200Z",
     "start_time": "2023-10-22T20:21:58.892364800Z"
    }
   }
  },
  {
   "cell_type": "code",
   "execution_count": 259,
   "outputs": [
    {
     "name": "stdout",
     "output_type": "stream",
     "text": [
      "Выборка имеет нормальное распределение (p-value = 0.2036809963294718 )\n"
     ]
    },
    {
     "name": "stderr",
     "output_type": "stream",
     "text": [
      "C:\\Users\\draco\\AppData\\Local\\Programs\\Python\\Python311\\Lib\\site-packages\\scipy\\stats\\_stats_py.py:1736: UserWarning: kurtosistest only valid for n>=20 ... continuing anyway, n=18\n",
      "  warnings.warn(\"kurtosistest only valid for n>=20 ... continuing \"\n"
     ]
    }
   ],
   "source": [
    "omega2_statistic_girls, omega2_p_value_girls = stats.normaltest(girls_weight)\n",
    "alpha = 0.05\n",
    "if omega2_p_value_girls < alpha:\n",
    "    print(\"Выборка не имеет нормальное распределение (p-value =\", omega2_p_value_girls, \")\")\n",
    "else:\n",
    "    print(\"Выборка имеет нормальное распределение (p-value =\", omega2_p_value_girls, \")\")"
   ],
   "metadata": {
    "collapsed": false,
    "ExecuteTime": {
     "end_time": "2023-10-22T20:21:59.268294200Z",
     "start_time": "2023-10-22T20:21:58.926099700Z"
    }
   }
  },
  {
   "cell_type": "code",
   "execution_count": 260,
   "outputs": [
    {
     "data": {
      "text/plain": "    Time_of_Birth  Sex  Birth_Weight  Minutes_After_Midnight  \\\n0               5    1          3837                       5   \n1             104    1          3334                      64   \n2             118    2          3554                      78   \n3             155    2          3838                     115   \n4             257    2          3625                     177   \n5             405    1          2208                     245   \n6             407    1          1745                     247   \n7             422    2          2846                     262   \n8             431    2          3166                     271   \n9             708    2          3520                     428   \n10            735    2          3380                     455   \n11            812    2          3294                     492   \n12            814    1          2576                     494   \n13            909    1          3208                     549   \n14           1035    2          3521                     635   \n15           1049    1          3746                     649   \n16           1053    1          3523                     653   \n17           1133    2          2902                     693   \n18           1209    2          2635                     729   \n19           1256    2          3920                     776   \n20           1305    2          3690                     785   \n21           1406    1          3430                     846   \n22           1407    1          3480                     847   \n23           1433    1          3116                     873   \n24           1446    1          3428                     886   \n25           1514    2          3783                     914   \n26           1631    2          3345                     991   \n27           1657    2          3034                    1017   \n28           1742    1          2184                    1062   \n29           1807    2          3300                    1087   \n30           1825    1          2383                    1105   \n31           1854    2          3428                    1134   \n32           1909    2          4162                    1149   \n33           1947    2          3630                    1187   \n34           1949    2          3406                    1189   \n35           1951    2          3402                    1191   \n36           2010    1          3500                    1210   \n37           2037    2          3736                    1237   \n38           2051    2          3370                    1251   \n39           2104    2          2121                    1264   \n40           2123    2          3150                    1283   \n41           2217    1          3866                    1337   \n42           2327    1          3542                    1407   \n43           2355    1          3278                    1435   \n\n    Time_Between_Births  Hour_of_Day  \n0                   0.0            0  \n1                  59.0            1  \n2                  14.0            1  \n3                  37.0            1  \n4                  62.0            2  \n5                  68.0            4  \n6                   2.0            4  \n7                  15.0            4  \n8                   9.0            4  \n9                 157.0            7  \n10                 27.0            7  \n11                 37.0            8  \n12                  2.0            8  \n13                 55.0            9  \n14                 86.0           10  \n15                 14.0           10  \n16                  4.0           10  \n17                 40.0           11  \n18                 36.0           12  \n19                 47.0           12  \n20                  9.0           13  \n21                 61.0           14  \n22                  1.0           14  \n23                 26.0           14  \n24                 13.0           14  \n25                 28.0           15  \n26                 77.0           16  \n27                 26.0           16  \n28                 45.0           17  \n29                 25.0           18  \n30                 18.0           18  \n31                 29.0           18  \n32                 15.0           19  \n33                 38.0           19  \n34                  2.0           19  \n35                  2.0           19  \n36                 19.0           20  \n37                 27.0           20  \n38                 14.0           20  \n39                 13.0           21  \n40                 19.0           21  \n41                 54.0           22  \n42                 70.0           23  \n43                 28.0           23  ",
      "text/html": "<div>\n<style scoped>\n    .dataframe tbody tr th:only-of-type {\n        vertical-align: middle;\n    }\n\n    .dataframe tbody tr th {\n        vertical-align: top;\n    }\n\n    .dataframe thead th {\n        text-align: right;\n    }\n</style>\n<table border=\"1\" class=\"dataframe\">\n  <thead>\n    <tr style=\"text-align: right;\">\n      <th></th>\n      <th>Time_of_Birth</th>\n      <th>Sex</th>\n      <th>Birth_Weight</th>\n      <th>Minutes_After_Midnight</th>\n      <th>Time_Between_Births</th>\n      <th>Hour_of_Day</th>\n    </tr>\n  </thead>\n  <tbody>\n    <tr>\n      <th>0</th>\n      <td>5</td>\n      <td>1</td>\n      <td>3837</td>\n      <td>5</td>\n      <td>0.0</td>\n      <td>0</td>\n    </tr>\n    <tr>\n      <th>1</th>\n      <td>104</td>\n      <td>1</td>\n      <td>3334</td>\n      <td>64</td>\n      <td>59.0</td>\n      <td>1</td>\n    </tr>\n    <tr>\n      <th>2</th>\n      <td>118</td>\n      <td>2</td>\n      <td>3554</td>\n      <td>78</td>\n      <td>14.0</td>\n      <td>1</td>\n    </tr>\n    <tr>\n      <th>3</th>\n      <td>155</td>\n      <td>2</td>\n      <td>3838</td>\n      <td>115</td>\n      <td>37.0</td>\n      <td>1</td>\n    </tr>\n    <tr>\n      <th>4</th>\n      <td>257</td>\n      <td>2</td>\n      <td>3625</td>\n      <td>177</td>\n      <td>62.0</td>\n      <td>2</td>\n    </tr>\n    <tr>\n      <th>5</th>\n      <td>405</td>\n      <td>1</td>\n      <td>2208</td>\n      <td>245</td>\n      <td>68.0</td>\n      <td>4</td>\n    </tr>\n    <tr>\n      <th>6</th>\n      <td>407</td>\n      <td>1</td>\n      <td>1745</td>\n      <td>247</td>\n      <td>2.0</td>\n      <td>4</td>\n    </tr>\n    <tr>\n      <th>7</th>\n      <td>422</td>\n      <td>2</td>\n      <td>2846</td>\n      <td>262</td>\n      <td>15.0</td>\n      <td>4</td>\n    </tr>\n    <tr>\n      <th>8</th>\n      <td>431</td>\n      <td>2</td>\n      <td>3166</td>\n      <td>271</td>\n      <td>9.0</td>\n      <td>4</td>\n    </tr>\n    <tr>\n      <th>9</th>\n      <td>708</td>\n      <td>2</td>\n      <td>3520</td>\n      <td>428</td>\n      <td>157.0</td>\n      <td>7</td>\n    </tr>\n    <tr>\n      <th>10</th>\n      <td>735</td>\n      <td>2</td>\n      <td>3380</td>\n      <td>455</td>\n      <td>27.0</td>\n      <td>7</td>\n    </tr>\n    <tr>\n      <th>11</th>\n      <td>812</td>\n      <td>2</td>\n      <td>3294</td>\n      <td>492</td>\n      <td>37.0</td>\n      <td>8</td>\n    </tr>\n    <tr>\n      <th>12</th>\n      <td>814</td>\n      <td>1</td>\n      <td>2576</td>\n      <td>494</td>\n      <td>2.0</td>\n      <td>8</td>\n    </tr>\n    <tr>\n      <th>13</th>\n      <td>909</td>\n      <td>1</td>\n      <td>3208</td>\n      <td>549</td>\n      <td>55.0</td>\n      <td>9</td>\n    </tr>\n    <tr>\n      <th>14</th>\n      <td>1035</td>\n      <td>2</td>\n      <td>3521</td>\n      <td>635</td>\n      <td>86.0</td>\n      <td>10</td>\n    </tr>\n    <tr>\n      <th>15</th>\n      <td>1049</td>\n      <td>1</td>\n      <td>3746</td>\n      <td>649</td>\n      <td>14.0</td>\n      <td>10</td>\n    </tr>\n    <tr>\n      <th>16</th>\n      <td>1053</td>\n      <td>1</td>\n      <td>3523</td>\n      <td>653</td>\n      <td>4.0</td>\n      <td>10</td>\n    </tr>\n    <tr>\n      <th>17</th>\n      <td>1133</td>\n      <td>2</td>\n      <td>2902</td>\n      <td>693</td>\n      <td>40.0</td>\n      <td>11</td>\n    </tr>\n    <tr>\n      <th>18</th>\n      <td>1209</td>\n      <td>2</td>\n      <td>2635</td>\n      <td>729</td>\n      <td>36.0</td>\n      <td>12</td>\n    </tr>\n    <tr>\n      <th>19</th>\n      <td>1256</td>\n      <td>2</td>\n      <td>3920</td>\n      <td>776</td>\n      <td>47.0</td>\n      <td>12</td>\n    </tr>\n    <tr>\n      <th>20</th>\n      <td>1305</td>\n      <td>2</td>\n      <td>3690</td>\n      <td>785</td>\n      <td>9.0</td>\n      <td>13</td>\n    </tr>\n    <tr>\n      <th>21</th>\n      <td>1406</td>\n      <td>1</td>\n      <td>3430</td>\n      <td>846</td>\n      <td>61.0</td>\n      <td>14</td>\n    </tr>\n    <tr>\n      <th>22</th>\n      <td>1407</td>\n      <td>1</td>\n      <td>3480</td>\n      <td>847</td>\n      <td>1.0</td>\n      <td>14</td>\n    </tr>\n    <tr>\n      <th>23</th>\n      <td>1433</td>\n      <td>1</td>\n      <td>3116</td>\n      <td>873</td>\n      <td>26.0</td>\n      <td>14</td>\n    </tr>\n    <tr>\n      <th>24</th>\n      <td>1446</td>\n      <td>1</td>\n      <td>3428</td>\n      <td>886</td>\n      <td>13.0</td>\n      <td>14</td>\n    </tr>\n    <tr>\n      <th>25</th>\n      <td>1514</td>\n      <td>2</td>\n      <td>3783</td>\n      <td>914</td>\n      <td>28.0</td>\n      <td>15</td>\n    </tr>\n    <tr>\n      <th>26</th>\n      <td>1631</td>\n      <td>2</td>\n      <td>3345</td>\n      <td>991</td>\n      <td>77.0</td>\n      <td>16</td>\n    </tr>\n    <tr>\n      <th>27</th>\n      <td>1657</td>\n      <td>2</td>\n      <td>3034</td>\n      <td>1017</td>\n      <td>26.0</td>\n      <td>16</td>\n    </tr>\n    <tr>\n      <th>28</th>\n      <td>1742</td>\n      <td>1</td>\n      <td>2184</td>\n      <td>1062</td>\n      <td>45.0</td>\n      <td>17</td>\n    </tr>\n    <tr>\n      <th>29</th>\n      <td>1807</td>\n      <td>2</td>\n      <td>3300</td>\n      <td>1087</td>\n      <td>25.0</td>\n      <td>18</td>\n    </tr>\n    <tr>\n      <th>30</th>\n      <td>1825</td>\n      <td>1</td>\n      <td>2383</td>\n      <td>1105</td>\n      <td>18.0</td>\n      <td>18</td>\n    </tr>\n    <tr>\n      <th>31</th>\n      <td>1854</td>\n      <td>2</td>\n      <td>3428</td>\n      <td>1134</td>\n      <td>29.0</td>\n      <td>18</td>\n    </tr>\n    <tr>\n      <th>32</th>\n      <td>1909</td>\n      <td>2</td>\n      <td>4162</td>\n      <td>1149</td>\n      <td>15.0</td>\n      <td>19</td>\n    </tr>\n    <tr>\n      <th>33</th>\n      <td>1947</td>\n      <td>2</td>\n      <td>3630</td>\n      <td>1187</td>\n      <td>38.0</td>\n      <td>19</td>\n    </tr>\n    <tr>\n      <th>34</th>\n      <td>1949</td>\n      <td>2</td>\n      <td>3406</td>\n      <td>1189</td>\n      <td>2.0</td>\n      <td>19</td>\n    </tr>\n    <tr>\n      <th>35</th>\n      <td>1951</td>\n      <td>2</td>\n      <td>3402</td>\n      <td>1191</td>\n      <td>2.0</td>\n      <td>19</td>\n    </tr>\n    <tr>\n      <th>36</th>\n      <td>2010</td>\n      <td>1</td>\n      <td>3500</td>\n      <td>1210</td>\n      <td>19.0</td>\n      <td>20</td>\n    </tr>\n    <tr>\n      <th>37</th>\n      <td>2037</td>\n      <td>2</td>\n      <td>3736</td>\n      <td>1237</td>\n      <td>27.0</td>\n      <td>20</td>\n    </tr>\n    <tr>\n      <th>38</th>\n      <td>2051</td>\n      <td>2</td>\n      <td>3370</td>\n      <td>1251</td>\n      <td>14.0</td>\n      <td>20</td>\n    </tr>\n    <tr>\n      <th>39</th>\n      <td>2104</td>\n      <td>2</td>\n      <td>2121</td>\n      <td>1264</td>\n      <td>13.0</td>\n      <td>21</td>\n    </tr>\n    <tr>\n      <th>40</th>\n      <td>2123</td>\n      <td>2</td>\n      <td>3150</td>\n      <td>1283</td>\n      <td>19.0</td>\n      <td>21</td>\n    </tr>\n    <tr>\n      <th>41</th>\n      <td>2217</td>\n      <td>1</td>\n      <td>3866</td>\n      <td>1337</td>\n      <td>54.0</td>\n      <td>22</td>\n    </tr>\n    <tr>\n      <th>42</th>\n      <td>2327</td>\n      <td>1</td>\n      <td>3542</td>\n      <td>1407</td>\n      <td>70.0</td>\n      <td>23</td>\n    </tr>\n    <tr>\n      <th>43</th>\n      <td>2355</td>\n      <td>1</td>\n      <td>3278</td>\n      <td>1435</td>\n      <td>28.0</td>\n      <td>23</td>\n    </tr>\n  </tbody>\n</table>\n</div>"
     },
     "execution_count": 260,
     "metadata": {},
     "output_type": "execute_result"
    }
   ],
   "source": [
    "df['Time_Between_Births'] = df['Minutes_After_Midnight'].diff()\n",
    "df['Time_Between_Births'] = df['Time_Between_Births'].fillna(0)\n",
    "df['Hour_of_Day'] = df['Minutes_After_Midnight'] // 60\n",
    "df"
   ],
   "metadata": {
    "collapsed": false,
    "ExecuteTime": {
     "end_time": "2023-10-22T20:21:59.268294200Z",
     "start_time": "2023-10-22T20:21:58.959089500Z"
    }
   }
  },
  {
   "cell_type": "code",
   "execution_count": 261,
   "outputs": [
    {
     "data": {
      "text/plain": "<Figure size 640x480 with 1 Axes>",
      "image/png": "[encoded data removed]"
     },
     "metadata": {},
     "output_type": "display_data"
    }
   ],
   "source": [
    "plt.hist(df['Time_Between_Births'], bins=num_bins, density=True)\n",
    "plt.xlabel('Значения')\n",
    "plt.ylabel('Плотность')\n",
    "plt.title('Гистограмма выборки Time_Between_Births')\n",
    "plt.show()"
   ],
   "metadata": {
    "collapsed": false,
    "ExecuteTime": {
     "end_time": "2023-10-22T20:21:59.567964300Z",
     "start_time": "2023-10-22T20:21:59.014866200Z"
    }
   }
  },
  {
   "cell_type": "code",
   "execution_count": 262,
   "outputs": [
    {
     "data": {
      "text/plain": "(array([ 9, 10,  8,  5,  2,  5,  2,  1,  1,  0,  0,  0,  0,  0,  1],\n       dtype=int64),\n array([  0.        ,  10.46666667,  20.93333333,  31.4       ,\n         41.86666667,  52.33333333,  62.8       ,  73.26666667,\n         83.73333333,  94.2       , 104.66666667, 115.13333333,\n        125.6       , 136.06666667, 146.53333333, 157.        ]))"
     },
     "execution_count": 262,
     "metadata": {},
     "output_type": "execute_result"
    }
   ],
   "source": [
    "histogram_time, bin_edges_time = np.histogram(df['Time_Between_Births'], bins=num_bins)\n",
    "observed_freq_time = histogram_time\n",
    "observed_freq_time, bin_edges_time"
   ],
   "metadata": {
    "collapsed": false,
    "ExecuteTime": {
     "end_time": "2023-10-22T20:21:59.567964300Z",
     "start_time": "2023-10-22T20:21:59.522049500Z"
    }
   }
  },
  {
   "cell_type": "code",
   "execution_count": 263,
   "outputs": [
    {
     "data": {
      "text/plain": "(array([0.20454545, 0.22727273, 0.18181818, 0.11363636, 0.15909091,\n        0.11363636]),\n array([ 0.        , 10.46666667, 20.93333333, 31.4       , 41.86666667,\n        62.8       ,         inf]),\n 1.0)"
     },
     "execution_count": 263,
     "metadata": {},
     "output_type": "execute_result"
    }
   ],
   "source": [
    "# Создаем новые интервалы\n",
    "new_bin_edges = [0]  # Начинаем с первой границы\n",
    "new_observed_freq = []  # Создаем новый список для наблюдаемых частот\n",
    "current_bin_freq = 0  # Счетчик значений в текущем интервале\n",
    "\n",
    "for i in range(1, len(bin_edges_time)):\n",
    "    current_bin_freq += observed_freq_time[i - 1]\n",
    "    if current_bin_freq >= 5:\n",
    "        new_bin_edges.append(bin_edges_time[i])\n",
    "        new_observed_freq.append(current_bin_freq)\n",
    "        current_bin_freq = 0\n",
    "\n",
    "# Последний интервал (если он остался) добавляем в последний интервал\n",
    "if current_bin_freq > 0:\n",
    "    new_observed_freq[-1] += current_bin_freq\n",
    "\n",
    "# Преобразуем списки в массивы numpy\n",
    "new_observed_freq = np.array(new_observed_freq)\n",
    "new_bin_edges = np.array(new_bin_edges)\n",
    "new_bin_edges[-1] = np.inf\n",
    "\n",
    "observed_freq_time = new_observed_freq / df.shape[0]\n",
    "bin_edges_time = new_bin_edges\n",
    "observed_freq_time, bin_edges_time, sum(observed_freq_time)"
   ],
   "metadata": {
    "collapsed": false,
    "ExecuteTime": {
     "end_time": "2023-10-22T20:21:59.618794500Z",
     "start_time": "2023-10-22T20:21:59.539105500Z"
    }
   }
  },
  {
   "cell_type": "code",
   "execution_count": 264,
   "outputs": [
    {
     "name": "stdout",
     "output_type": "stream",
     "text": [
      "Среднее:  32.5\n",
      "Стандартное отклонение:  29.642442858250586\n",
      "Дисперсия:  878.6744186046511\n"
     ]
    }
   ],
   "source": [
    "mean_time = df['Time_Between_Births'].mean()\n",
    "std_dev_time = df['Time_Between_Births'].std()\n",
    "dev_time = df['Time_Between_Births'].var()\n",
    "print('Среднее: ', mean_time)\n",
    "print('Стандартное отклонение: ', std_dev_time)\n",
    "print('Дисперсия: ', dev_time)"
   ],
   "metadata": {
    "collapsed": false,
    "ExecuteTime": {
     "end_time": "2023-10-22T20:21:59.763740800Z",
     "start_time": "2023-10-22T20:21:59.571037900Z"
    }
   }
  },
  {
   "cell_type": "code",
   "execution_count": 265,
   "outputs": [
    {
     "name": "stdout",
     "output_type": "stream",
     "text": [
      "Доверительный интервал для лямбды: ( 0.030247775567131492 ;  0.030826950675023505 )\n"
     ]
    }
   ],
   "source": [
    "n = df.shape[0]\n",
    "a_est_left_time = stats.chi2.ppf(q=gamma / 2, df=n*2) / (2*n*mean_time)\n",
    "a_est_right_time = stats.chi2.ppf(q=1 - gamma / 2, df=n*2) / (2*n*mean_time)\n",
    "print('Доверительный интервал для лямбды: (', a_est_left_time, '; ', a_est_right_time, ')')"
   ],
   "metadata": {
    "collapsed": false,
    "ExecuteTime": {
     "end_time": "2023-10-22T20:21:59.763740800Z",
     "start_time": "2023-10-22T20:21:59.597826500Z"
    }
   }
  },
  {
   "cell_type": "code",
   "execution_count": 266,
   "outputs": [
    {
     "data": {
      "text/plain": "([0.27533897272695057,\n  0.19952742282461816,\n  0.14458974719323192,\n  0.10477855473419784,\n  0.13095167522633588,\n  0.14481362729466563],\n 1.0)"
     },
     "execution_count": 266,
     "metadata": {},
     "output_type": "execute_result"
    }
   ],
   "source": [
    "expected_freq_time = []\n",
    "\n",
    "for i in range(len(bin_edges_time) - 1):\n",
    "    lower_bound = bin_edges_time[i]\n",
    "    upper_bound = bin_edges_time[i + 1]\n",
    "    expected_count = stats.expon.cdf(upper_bound, scale=mean_time) - stats.expon.cdf(lower_bound, scale=mean_time)\n",
    "    expected_freq_time.append(expected_count)\n",
    "\n",
    "expected_freq_time, sum(expected_freq_time)"
   ],
   "metadata": {
    "collapsed": false,
    "ExecuteTime": {
     "end_time": "2023-10-22T20:21:59.763740800Z",
     "start_time": "2023-10-22T20:21:59.618794500Z"
    }
   }
  },
  {
   "cell_type": "code",
   "execution_count": 267,
   "outputs": [
    {
     "name": "stdout",
     "output_type": "stream",
     "text": [
      "Выборка имеет экспоненциальное распределение (p-value = 0.9997489514562691 )\n"
     ]
    }
   ],
   "source": [
    "chi_squared_statistic_time, chi_squared_p_value_time = stats.chisquare(f_obs=observed_freq_time, f_exp=expected_freq_time, ddof=1)\n",
    "alpha = 0.05\n",
    "if chi_squared_p_value_time < alpha:\n",
    "    print(\"Выборка не имеет экспоненциальное распределение (p-value =\", chi_squared_p_value_time, \")\")\n",
    "else:\n",
    "    print(\"Выборка имеет экспоненциальное распределение (p-value =\", chi_squared_p_value_time, \")\")"
   ],
   "metadata": {
    "collapsed": false,
    "ExecuteTime": {
     "end_time": "2023-10-22T20:21:59.763740800Z",
     "start_time": "2023-10-22T20:21:59.653899100Z"
    }
   }
  },
  {
   "cell_type": "code",
   "execution_count": 268,
   "outputs": [
    {
     "name": "stdout",
     "output_type": "stream",
     "text": [
      "Выборка имеет экспоненциальное распределение (p-value = 0.45923712132737304 )\n"
     ]
    }
   ],
   "source": [
    "ks_statistic_time, ks_p_value_time = stats.kstest(df['Time_Between_Births'], 'expon', args=(0, mean_time))\n",
    "alpha = 0.05\n",
    "if ks_p_value_time < alpha:\n",
    "    print(\"Выборка не имеет экспоненциальное распределение (p-value =\", ks_p_value_time, \")\")\n",
    "else:\n",
    "    print(\"Выборка имеет экспоненциальное распределение (p-value =\", ks_p_value_time, \")\")"
   ],
   "metadata": {
    "collapsed": false,
    "ExecuteTime": {
     "end_time": "2023-10-22T20:21:59.763740800Z",
     "start_time": "2023-10-22T20:21:59.693639300Z"
    }
   }
  },
  {
   "cell_type": "code",
   "execution_count": 269,
   "outputs": [
    {
     "data": {
      "text/plain": "<Figure size 640x480 with 1 Axes>",
      "image/png": "[encoded data removed]"
     },
     "metadata": {},
     "output_type": "display_data"
    }
   ],
   "source": [
    "plt.hist(df['Hour_of_Day'], bins=num_bins, density=True)\n",
    "plt.xlabel('Значения')\n",
    "plt.ylabel('Плотность')\n",
    "plt.title('Гистограмма выборки Hour_of_Day')\n",
    "plt.show()"
   ],
   "metadata": {
    "collapsed": false,
    "ExecuteTime": {
     "end_time": "2023-10-22T20:22:00.096996Z",
     "start_time": "2023-10-22T20:21:59.712427500Z"
    }
   }
  },
  {
   "cell_type": "code",
   "execution_count": 270,
   "outputs": [
    {
     "name": "stdout",
     "output_type": "stream",
     "text": [
      "Среднее:  12.681818181818182\n",
      "Стандартное отклонение:  6.870133295727026\n",
      "Дисперсия:  47.19873150105708\n"
     ]
    }
   ],
   "source": [
    "mean_hour = df['Hour_of_Day'].mean()\n",
    "std_dev_hour = df['Hour_of_Day'].std()\n",
    "dev_hour = df['Hour_of_Day'].var()\n",
    "print('Среднее: ', mean_hour)\n",
    "print('Стандартное отклонение: ', std_dev_hour)\n",
    "print('Дисперсия: ', dev_hour)"
   ],
   "metadata": {
    "collapsed": false,
    "ExecuteTime": {
     "end_time": "2023-10-22T20:22:00.111709400Z",
     "start_time": "2023-10-22T20:22:00.071208200Z"
    }
   }
  },
  {
   "cell_type": "code",
   "execution_count": 283,
   "outputs": [
    {
     "name": "stdout",
     "output_type": "stream",
     "text": [
      "Доверительный интервал для альфа: ( 12.648153159321902 ;  12.715483204314461 )\n"
     ]
    }
   ],
   "source": [
    "n = df.shape[0]\n",
    "a_est_left_hour = mean_hour - stats.norm.ppf(1 - gamma / 2) * np.sqrt(mean_hour / n)\n",
    "a_est_right_hour = mean_hour + stats.norm.ppf(1 - gamma / 2) * np.sqrt(mean_hour / n)\n",
    "print('Доверительный интервал для альфа: (', a_est_left_hour, '; ', a_est_right_hour, ')')"
   ],
   "metadata": {
    "collapsed": false,
    "ExecuteTime": {
     "end_time": "2023-10-22T20:35:32.715627600Z",
     "start_time": "2023-10-22T20:35:32.683900100Z"
    }
   }
  },
  {
   "cell_type": "code",
   "execution_count": 272,
   "outputs": [],
   "source": [
    "observed_freq_hour = np.array(df['Hour_of_Day'].value_counts(sort=False))\n",
    "bin_edges_hour = df['Hour_of_Day'].unique()"
   ],
   "metadata": {
    "collapsed": false,
    "ExecuteTime": {
     "end_time": "2023-10-22T20:22:00.307461Z",
     "start_time": "2023-10-22T20:22:00.123067Z"
    }
   }
  },
  {
   "cell_type": "code",
   "execution_count": 273,
   "outputs": [
    {
     "data": {
      "text/plain": "(array([1, 3, 1, 4, 2, 2, 1, 3, 1, 2, 1, 4, 1, 2, 1, 3, 4, 3, 2, 1, 2],\n       dtype=int64),\n array([ 0,  1,  2,  4,  7,  8,  9, 10, 11, 12, 13, 14, 15, 16, 17, 18, 19,\n        20, 21, 22, 23], dtype=int64))"
     },
     "execution_count": 273,
     "metadata": {},
     "output_type": "execute_result"
    }
   ],
   "source": [
    "observed_freq_hour, bin_edges_hour"
   ],
   "metadata": {
    "collapsed": false,
    "ExecuteTime": {
     "end_time": "2023-10-22T20:22:00.307461Z",
     "start_time": "2023-10-22T20:22:00.144940400Z"
    }
   }
  },
  {
   "cell_type": "code",
   "execution_count": 274,
   "outputs": [
    {
     "data": {
      "text/plain": "(array([0.11363636, 0.13636364, 0.13636364, 0.18181818, 0.15909091,\n        0.22727273]),\n array([ 0.,  4.,  8., 11., 15., 19., inf]),\n 0.9545454545454545)"
     },
     "execution_count": 274,
     "metadata": {},
     "output_type": "execute_result"
    }
   ],
   "source": [
    "# Создаем новые интервалы\n",
    "new_bin_edges = [0]  # Начинаем с первой границы\n",
    "new_observed_freq = []  # Создаем новый список для наблюдаемых частот\n",
    "current_bin_freq = 0  # Счетчик значений в текущем интервале\n",
    "\n",
    "for i in range(1, len(bin_edges_hour)):\n",
    "    current_bin_freq += observed_freq_hour[i - 1]\n",
    "    if current_bin_freq >= 5:\n",
    "        new_bin_edges.append(bin_edges_hour[i])\n",
    "        new_observed_freq.append(current_bin_freq)\n",
    "        current_bin_freq = 0\n",
    "\n",
    "# Последний интервал (если он остался) добавляем в последний интервал\n",
    "if current_bin_freq > 0:\n",
    "    new_observed_freq[-1] += current_bin_freq\n",
    "\n",
    "# Преобразуем списки в массивы numpy\n",
    "new_observed_freq = np.array(new_observed_freq)\n",
    "new_bin_edges = np.array(new_bin_edges).astype(float)\n",
    "new_bin_edges[-1] = np.inf\n",
    "\n",
    "observed_freq_hour = new_observed_freq / df.shape[0]\n",
    "bin_edges_hour = new_bin_edges\n",
    "observed_freq_hour, bin_edges_hour, sum(observed_freq_hour)"
   ],
   "metadata": {
    "collapsed": false,
    "ExecuteTime": {
     "end_time": "2023-10-22T20:22:00.308462900Z",
     "start_time": "2023-10-22T20:22:00.168710300Z"
    }
   }
  },
  {
   "cell_type": "code",
   "execution_count": 275,
   "outputs": [
    {
     "data": {
      "text/plain": "([0.27533897272695057,\n  0.19952742282461816,\n  0.14458974719323192,\n  0.10477855473419784,\n  0.13095167522633588,\n  0.14481362729466563,\n  0.11580435510481699,\n  0.10239370644357443,\n  0.06893574165933611,\n  0.08255301019555267,\n  0.07299301208789538,\n  0.5573201745088244],\n 2.0)"
     },
     "execution_count": 275,
     "metadata": {},
     "output_type": "execute_result"
    }
   ],
   "source": [
    "expected_freq_hour = []\n",
    "\n",
    "for i in range(len(bin_edges_hour) - 1):\n",
    "    lower_bound = bin_edges_hour[i]\n",
    "    upper_bound = bin_edges_hour[i + 1]\n",
    "    expected_count = stats.expon.cdf(upper_bound, scale=mean_time) - stats.expon.cdf(lower_bound, scale=mean_time)\n",
    "    expected_freq_time.append(expected_count)\n",
    "\n",
    "expected_freq_time, sum(expected_freq_time)"
   ],
   "metadata": {
    "collapsed": false,
    "ExecuteTime": {
     "end_time": "2023-10-22T20:22:00.308462900Z",
     "start_time": "2023-10-22T20:22:00.188764600Z"
    }
   }
  },
  {
   "cell_type": "code",
   "execution_count": 276,
   "outputs": [
    {
     "ename": "ValueError",
     "evalue": "shapes (6,) and (12,) could not be broadcast together",
     "output_type": "error",
     "traceback": [
      "\u001B[1;31m---------------------------------------------------------------------------\u001B[0m",
      "\u001B[1;31mValueError\u001B[0m                                Traceback (most recent call last)",
      "Cell \u001B[1;32mIn[276], line 1\u001B[0m\n\u001B[1;32m----> 1\u001B[0m chi_squared_statistic_time, chi_squared_p_value_time \u001B[38;5;241m=\u001B[39m \u001B[43mstats\u001B[49m\u001B[38;5;241;43m.\u001B[39;49m\u001B[43mchisquare\u001B[49m\u001B[43m(\u001B[49m\u001B[43mf_obs\u001B[49m\u001B[38;5;241;43m=\u001B[39;49m\u001B[43mobserved_freq_time\u001B[49m\u001B[43m,\u001B[49m\u001B[43m \u001B[49m\u001B[43mf_exp\u001B[49m\u001B[38;5;241;43m=\u001B[39;49m\u001B[43mexpected_freq_time\u001B[49m\u001B[43m,\u001B[49m\u001B[43m \u001B[49m\u001B[43mddof\u001B[49m\u001B[38;5;241;43m=\u001B[39;49m\u001B[38;5;241;43m1\u001B[39;49m\u001B[43m)\u001B[49m\n\u001B[0;32m      2\u001B[0m alpha \u001B[38;5;241m=\u001B[39m \u001B[38;5;241m0.05\u001B[39m\n\u001B[0;32m      3\u001B[0m \u001B[38;5;28;01mif\u001B[39;00m chi_squared_p_value_time \u001B[38;5;241m<\u001B[39m alpha:\n",
      "File \u001B[1;32m~\\AppData\\Local\\Programs\\Python\\Python311\\Lib\\site-packages\\scipy\\stats\\_stats_py.py:7553\u001B[0m, in \u001B[0;36mchisquare\u001B[1;34m(f_obs, f_exp, ddof, axis)\u001B[0m\n\u001B[0;32m   7428\u001B[0m \u001B[38;5;28;01mdef\u001B[39;00m \u001B[38;5;21mchisquare\u001B[39m(f_obs, f_exp\u001B[38;5;241m=\u001B[39m\u001B[38;5;28;01mNone\u001B[39;00m, ddof\u001B[38;5;241m=\u001B[39m\u001B[38;5;241m0\u001B[39m, axis\u001B[38;5;241m=\u001B[39m\u001B[38;5;241m0\u001B[39m):\n\u001B[0;32m   7429\u001B[0m \u001B[38;5;250m    \u001B[39m\u001B[38;5;124;03m\"\"\"Calculate a one-way chi-square test.\u001B[39;00m\n\u001B[0;32m   7430\u001B[0m \n\u001B[0;32m   7431\u001B[0m \u001B[38;5;124;03m    The chi-square test tests the null hypothesis that the categorical data\u001B[39;00m\n\u001B[1;32m   (...)\u001B[0m\n\u001B[0;32m   7551\u001B[0m \n\u001B[0;32m   7552\u001B[0m \u001B[38;5;124;03m    \"\"\"\u001B[39;00m\n\u001B[1;32m-> 7553\u001B[0m     \u001B[38;5;28;01mreturn\u001B[39;00m \u001B[43mpower_divergence\u001B[49m\u001B[43m(\u001B[49m\u001B[43mf_obs\u001B[49m\u001B[43m,\u001B[49m\u001B[43m \u001B[49m\u001B[43mf_exp\u001B[49m\u001B[38;5;241;43m=\u001B[39;49m\u001B[43mf_exp\u001B[49m\u001B[43m,\u001B[49m\u001B[43m \u001B[49m\u001B[43mddof\u001B[49m\u001B[38;5;241;43m=\u001B[39;49m\u001B[43mddof\u001B[49m\u001B[43m,\u001B[49m\u001B[43m \u001B[49m\u001B[43maxis\u001B[49m\u001B[38;5;241;43m=\u001B[39;49m\u001B[43maxis\u001B[49m\u001B[43m,\u001B[49m\n\u001B[0;32m   7554\u001B[0m \u001B[43m                            \u001B[49m\u001B[43mlambda_\u001B[49m\u001B[38;5;241;43m=\u001B[39;49m\u001B[38;5;124;43m\"\u001B[39;49m\u001B[38;5;124;43mpearson\u001B[39;49m\u001B[38;5;124;43m\"\u001B[39;49m\u001B[43m)\u001B[49m\n",
      "File \u001B[1;32m~\\AppData\\Local\\Programs\\Python\\Python311\\Lib\\site-packages\\scipy\\stats\\_stats_py.py:7378\u001B[0m, in \u001B[0;36mpower_divergence\u001B[1;34m(f_obs, f_exp, ddof, axis, lambda_)\u001B[0m\n\u001B[0;32m   7376\u001B[0m \u001B[38;5;28;01mif\u001B[39;00m f_exp \u001B[38;5;129;01mis\u001B[39;00m \u001B[38;5;129;01mnot\u001B[39;00m \u001B[38;5;28;01mNone\u001B[39;00m:\n\u001B[0;32m   7377\u001B[0m     f_exp \u001B[38;5;241m=\u001B[39m np\u001B[38;5;241m.\u001B[39masanyarray(f_exp)\n\u001B[1;32m-> 7378\u001B[0m     bshape \u001B[38;5;241m=\u001B[39m \u001B[43m_broadcast_shapes\u001B[49m\u001B[43m(\u001B[49m\u001B[43mf_obs_float\u001B[49m\u001B[38;5;241;43m.\u001B[39;49m\u001B[43mshape\u001B[49m\u001B[43m,\u001B[49m\u001B[43m \u001B[49m\u001B[43mf_exp\u001B[49m\u001B[38;5;241;43m.\u001B[39;49m\u001B[43mshape\u001B[49m\u001B[43m)\u001B[49m\n\u001B[0;32m   7379\u001B[0m     f_obs_float \u001B[38;5;241m=\u001B[39m _m_broadcast_to(f_obs_float, bshape)\n\u001B[0;32m   7380\u001B[0m     f_exp \u001B[38;5;241m=\u001B[39m _m_broadcast_to(f_exp, bshape)\n",
      "File \u001B[1;32m~\\AppData\\Local\\Programs\\Python\\Python311\\Lib\\site-packages\\scipy\\stats\\_stats_py.py:165\u001B[0m, in \u001B[0;36m_broadcast_shapes\u001B[1;34m(shape1, shape2)\u001B[0m\n\u001B[0;32m    163\u001B[0m         n \u001B[38;5;241m=\u001B[39m n1\n\u001B[0;32m    164\u001B[0m     \u001B[38;5;28;01melse\u001B[39;00m:\n\u001B[1;32m--> 165\u001B[0m         \u001B[38;5;28;01mraise\u001B[39;00m \u001B[38;5;167;01mValueError\u001B[39;00m(\u001B[38;5;124mf\u001B[39m\u001B[38;5;124m'\u001B[39m\u001B[38;5;124mshapes \u001B[39m\u001B[38;5;132;01m{\u001B[39;00mshape1\u001B[38;5;132;01m}\u001B[39;00m\u001B[38;5;124m and \u001B[39m\u001B[38;5;132;01m{\u001B[39;00mshape2\u001B[38;5;132;01m}\u001B[39;00m\u001B[38;5;124m could not be \u001B[39m\u001B[38;5;124m'\u001B[39m\n\u001B[0;32m    166\u001B[0m                          \u001B[38;5;124m'\u001B[39m\u001B[38;5;124mbroadcast together\u001B[39m\u001B[38;5;124m'\u001B[39m)\n\u001B[0;32m    167\u001B[0m     shape\u001B[38;5;241m.\u001B[39mappend(n)\n\u001B[0;32m    168\u001B[0m \u001B[38;5;28;01mreturn\u001B[39;00m \u001B[38;5;28mtuple\u001B[39m(shape)\n",
      "\u001B[1;31mValueError\u001B[0m: shapes (6,) and (12,) could not be broadcast together"
     ]
    }
   ],
   "source": [
    "chi_squared_statistic_time, chi_squared_p_value_time = stats.chisquare(f_obs=observed_freq_time, f_exp=expected_freq_time, ddof=1)\n",
    "alpha = 0.05\n",
    "if chi_squared_p_value_time < alpha:\n",
    "    print(\"Выборка не имеет экспоненциальное распределение (p-value =\", chi_squared_p_value_time, \")\")\n",
    "else:\n",
    "    print(\"Выборка имеет экспоненциальное распределение (p-value =\", chi_squared_p_value_time, \")\")"
   ],
   "metadata": {
    "collapsed": false,
    "ExecuteTime": {
     "end_time": "2023-10-22T20:22:00.468909200Z",
     "start_time": "2023-10-22T20:22:00.219467200Z"
    }
   }
  },
  {
   "cell_type": "code",
   "execution_count": null,
   "outputs": [],
   "source": [],
   "metadata": {
    "collapsed": false,
    "ExecuteTime": {
     "start_time": "2023-10-22T20:22:00.397754200Z"
    }
   }
  }
 ],
 "metadata": {
  "kernelspec": {
   "display_name": "Python 3",
   "language": "python",
   "name": "python3"
  },
  "language_info": {
   "codemirror_mode": {
    "name": "ipython",
    "version": 2
   },
   "file_extension": ".py",
   "mimetype": "text/x-python",
   "name": "python",
   "nbconvert_exporter": "python",
   "pygments_lexer": "ipython2",
   "version": "2.7.6"
  }
 },
 "nbformat": 4,
 "nbformat_minor": 0
}
